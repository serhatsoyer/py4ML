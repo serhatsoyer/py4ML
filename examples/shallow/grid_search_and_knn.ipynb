{
 "cells": [
  {
   "attachments": {},
   "cell_type": "markdown",
   "id": "ce734de3",
   "metadata": {},
   "source": [
    "### Grid Search on Breast Cancer Dataset and KNN Classifier\n",
    "\n",
    "Previous example: [/examples/shallow/pca_and_svm.ipynb](https://github.com/serhatsoyer/py4ML/blob/main/examples/shallow/pca_and_svm.ipynb)  \n",
    "Next example: [/examples/tensorboard.ipynb](https://github.com/serhatsoyer/py4ML/blob/main/examples/tensorboard.ipynb)"
   ]
  },
  {
   "cell_type": "code",
   "execution_count": 1,
   "id": "20337809",
   "metadata": {},
   "outputs": [],
   "source": [
    "from sklearn.datasets import load_breast_cancer\n",
    "from sklearn.model_selection import train_test_split\n",
    "from sklearn.preprocessing import StandardScaler\n",
    "from sklearn.neighbors import KNeighborsClassifier\n",
    "from sklearn.metrics import classification_report, confusion_matrix\n",
    "from sklearn.model_selection import GridSearchCV"
   ]
  },
  {
   "cell_type": "code",
   "execution_count": 2,
   "id": "3242a891",
   "metadata": {},
   "outputs": [
    {
     "name": "stdout",
     "output_type": "stream",
     "text": [
      "type(dataset) = <class 'sklearn.utils._bunch.Bunch'>\n",
      "dataset.keys = <built-in method keys of Bunch object at 0x1290157b0>\n",
      "<class 'numpy.ndarray'> (569, 30) float64\n",
      "<class 'numpy.ndarray'> (569,) int64\n"
     ]
    }
   ],
   "source": [
    "dataset = load_breast_cancer()\n",
    "print(f'{type(dataset) = }')\n",
    "print(f'{dataset.keys = }')\n",
    "def print_field(field): print(type(dataset[field]), dataset[field].shape, dataset[field].dtype)\n",
    "print_field('data')\n",
    "print_field('target')"
   ]
  },
  {
   "cell_type": "code",
   "execution_count": 3,
   "id": "99f83b27",
   "metadata": {},
   "outputs": [
    {
     "name": "stdout",
     "output_type": "stream",
     "text": [
      "X_train                  : (426, 30)\n",
      "y_train                  : (426,)\n",
      "X_test                   : (143, 30)\n",
      "y_test                   : (143,)\n"
     ]
    }
   ],
   "source": [
    "def print_data(msg, data): print(f'{msg:25}: {data.shape}')\n",
    "X_train, X_test, y_train, y_test = train_test_split(dataset['data'], dataset['target'])\n",
    "scaler = StandardScaler()\n",
    "scaler.fit(X_train)\n",
    "X_train = scaler.transform(X_train)\n",
    "X_test = scaler.transform(X_test)\n",
    "print_data('X_train', X_train)\n",
    "print_data('y_train', y_train)\n",
    "print_data('X_test', X_test)\n",
    "print_data('y_test', y_test)"
   ]
  },
  {
   "cell_type": "code",
   "execution_count": 4,
   "id": "0ab0b2de",
   "metadata": {},
   "outputs": [],
   "source": [
    "def disp_results(func, gt, pred, msg): print(f'{func.__name__} of {msg}:\\n{func(gt, pred)}')\n",
    "def fit_and_analyse(model):\n",
    "    model.fit(X_train, y_train)\n",
    "    y_train_pred = model.predict(X_train)\n",
    "    y_test_pred = model.predict(X_test)\n",
    "    disp_results(classification_report, y_train, y_train_pred, 'training data')\n",
    "    disp_results(confusion_matrix, y_train, y_train_pred, 'training data')\n",
    "    print()\n",
    "    disp_results(classification_report, y_test, y_test_pred, 'test data')\n",
    "    disp_results(confusion_matrix, y_test, y_test_pred, 'test data')\n",
    "    return model"
   ]
  },
  {
   "cell_type": "code",
   "execution_count": 5,
   "id": "5552c8c3",
   "metadata": {},
   "outputs": [
    {
     "name": "stdout",
     "output_type": "stream",
     "text": [
      "classification_report of training data:\n",
      "              precision    recall  f1-score   support\n",
      "\n",
      "           0       0.99      0.94      0.97       159\n",
      "           1       0.97      1.00      0.98       267\n",
      "\n",
      "    accuracy                           0.98       426\n",
      "   macro avg       0.98      0.97      0.97       426\n",
      "weighted avg       0.98      0.98      0.98       426\n",
      "\n",
      "confusion_matrix of training data:\n",
      "[[150   9]\n",
      " [  1 266]]\n",
      "\n",
      "classification_report of test data:\n",
      "              precision    recall  f1-score   support\n",
      "\n",
      "           0       1.00      0.91      0.95        53\n",
      "           1       0.95      1.00      0.97        90\n",
      "\n",
      "    accuracy                           0.97       143\n",
      "   macro avg       0.97      0.95      0.96       143\n",
      "weighted avg       0.97      0.97      0.96       143\n",
      "\n",
      "confusion_matrix of test data:\n",
      "[[48  5]\n",
      " [ 0 90]]\n",
      "\n",
      "model.classes_ = array([0, 1])\n",
      "model.n_neighbors = 5\n",
      "model = KNeighborsClassifier()\n"
     ]
    }
   ],
   "source": [
    "model = fit_and_analyse(KNeighborsClassifier())\n",
    "print(f'\\n{model.classes_ = }')\n",
    "print(f'{model.n_neighbors = }')\n",
    "print(f'{model = }')"
   ]
  },
  {
   "cell_type": "code",
   "execution_count": 6,
   "id": "806e69ee",
   "metadata": {},
   "outputs": [
    {
     "name": "stdout",
     "output_type": "stream",
     "text": [
      "classification_report of training data:\n",
      "              precision    recall  f1-score   support\n",
      "\n",
      "           0       0.99      0.93      0.96       159\n",
      "           1       0.96      0.99      0.98       267\n",
      "\n",
      "    accuracy                           0.97       426\n",
      "   macro avg       0.97      0.96      0.97       426\n",
      "weighted avg       0.97      0.97      0.97       426\n",
      "\n",
      "confusion_matrix of training data:\n",
      "[[148  11]\n",
      " [  2 265]]\n",
      "\n",
      "classification_report of test data:\n",
      "              precision    recall  f1-score   support\n",
      "\n",
      "           0       1.00      0.94      0.97        53\n",
      "           1       0.97      1.00      0.98        90\n",
      "\n",
      "    accuracy                           0.98       143\n",
      "   macro avg       0.98      0.97      0.98       143\n",
      "weighted avg       0.98      0.98      0.98       143\n",
      "\n",
      "confusion_matrix of test data:\n",
      "[[50  3]\n",
      " [ 0 90]]\n",
      "\n",
      "new_model.best_params_ = {'algorithm': 'ball_tree', 'n_neighbors': 10, 'weights': 'uniform'}\n",
      "new_model.best_estimator_ = KNeighborsClassifier(algorithm='ball_tree', n_neighbors=10)\n",
      "new_model.classes_ = array([0, 1])\n",
      "new_model = GridSearchCV(estimator=KNeighborsClassifier(),\n",
      "             param_grid={'algorithm': ['ball_tree', 'kd_tree', 'brute'],\n",
      "                         'n_neighbors': [1, 2, 5, 10],\n",
      "                         'weights': ['uniform', 'distance']})\n"
     ]
    }
   ],
   "source": [
    "new_model = GridSearchCV(\\\n",
    "    KNeighborsClassifier(), \\\n",
    "        {'n_neighbors': [1, 2, 5, 10], \\\n",
    "        'weights': ['uniform', 'distance'], \\\n",
    "        'algorithm': ['ball_tree', 'kd_tree', 'brute']}, \\\n",
    "    refit=True)\n",
    "\n",
    "new_model = fit_and_analyse(new_model)\n",
    "print(f'\\n{new_model.best_params_ = }')\n",
    "print(f'{new_model.best_estimator_ = }')\n",
    "print(f'{new_model.classes_ = }')\n",
    "print(f'{new_model = }')"
   ]
  },
  {
   "attachments": {},
   "cell_type": "markdown",
   "id": "c484cb68",
   "metadata": {},
   "source": [
    "Previous example: [/examples/shallow/pca_and_svm.ipynb](https://github.com/serhatsoyer/py4ML/blob/main/examples/shallow/pca_and_svm.ipynb)  \n",
    "Next example: [/examples/tensorboard.ipynb](https://github.com/serhatsoyer/py4ML/blob/main/examples/tensorboard.ipynb)"
   ]
  }
 ],
 "metadata": {
  "kernelspec": {
   "display_name": "Python 3.10.6 ('study')",
   "language": "python",
   "name": "python3"
  },
  "language_info": {
   "codemirror_mode": {
    "name": "ipython",
    "version": 3
   },
   "file_extension": ".py",
   "mimetype": "text/x-python",
   "name": "python",
   "nbconvert_exporter": "python",
   "pygments_lexer": "ipython3",
   "version": "3.10.8 (main, Nov 24 2022, 08:08:27) [Clang 14.0.6 ]"
  },
  "vscode": {
   "interpreter": {
    "hash": "29d06b973d1ddb34db3279b24f9b5152402e688db937648b736e855ec4de60c0"
   }
  }
 },
 "nbformat": 4,
 "nbformat_minor": 5
}
