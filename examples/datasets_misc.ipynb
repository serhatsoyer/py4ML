{
 "cells": [
  {
   "attachments": {},
   "cell_type": "markdown",
   "id": "ce734de3",
   "metadata": {},
   "source": [
    "### Miscellaneous Concepts about Datasets\n",
    "\n",
    "Previous example: [/examples/toy_datasets.ipynb](https://github.com/serhatsoyer/py4ML/blob/main/examples/toy_datasets.ipynb)  \n",
    "Next example: [/examples/shallow/random_forests.ipynb](https://github.com/serhatsoyer/py4ML/blob/main/examples/shallow/random_forests.ipynb)"
   ]
  },
  {
   "cell_type": "code",
   "execution_count": 1,
   "id": "2cc158f5",
   "metadata": {},
   "outputs": [],
   "source": [
    "from sklearn.datasets import make_blobs\n",
    "from sklearn.preprocessing import MinMaxScaler, StandardScaler\n",
    "from sklearn.utils import shuffle"
   ]
  },
  {
   "cell_type": "code",
   "execution_count": 2,
   "id": "ec41922a",
   "metadata": {},
   "outputs": [
    {
     "name": "stdout",
     "output_type": "stream",
     "text": [
      "<class 'numpy.ndarray'> (256, 3) float64\n",
      "<class 'numpy.ndarray'> (256,) int64\n"
     ]
    }
   ],
   "source": [
    "data, label = make_blobs(n_samples=256, n_features=3, centers=3, cluster_std=2, random_state=1)\n",
    "print(type(data), data.shape, data.dtype)\n",
    "print(type(label), label.shape, label.dtype)"
   ]
  },
  {
   "cell_type": "code",
   "execution_count": 3,
   "id": "2d5ce497",
   "metadata": {},
   "outputs": [
    {
     "name": "stdout",
     "output_type": "stream",
     "text": [
      "Original   -   Mean: -4.1,  Std: 4.4,  Min: -1.4e+01,  Max: 9.2\n",
      "MinMax Scaled   -   Mean: 0.45,  Std: 0.22,  Min: 0.0,  Max: 1.0\n",
      "Inverse MinMax Scaled   -   Mean: -4.1,  Std: 4.4,  Min: -1.4e+01,  Max: 9.2\n",
      "STD Scaled   -   Mean: -4.5e-17,  Std: 1.0,  Min: -2.3,  Max: 2.8\n",
      "Inverse STD Scaled   -   Mean: -4.1,  Std: 4.4,  Min: -1.4e+01,  Max: 9.2\n"
     ]
    }
   ],
   "source": [
    "def print_stats(vec, msg): print(f'{msg}   -   Mean: {vec.mean():.2},  Std: {vec.std():.2},  Min: {vec.min():.2},  Max: {vec.max():.2}')\n",
    "print_stats(data, 'Original')\n",
    "minmax_scaler = MinMaxScaler()\n",
    "minmax_scaler.fit(data)\n",
    "minmax_scaled = minmax_scaler.transform(data)\n",
    "print_stats(minmax_scaled, 'MinMax Scaled')\n",
    "inv_minmax_data = minmax_scaler.inverse_transform(minmax_scaled)\n",
    "print_stats(inv_minmax_data, 'Inverse MinMax Scaled')\n",
    "std_scaler = StandardScaler()\n",
    "std_scaler.fit(data)\n",
    "std_scaled = std_scaler.transform(data)\n",
    "print_stats(std_scaled, 'STD Scaled')\n",
    "inv_std_data = std_scaler.inverse_transform(std_scaled)\n",
    "print_stats(inv_std_data, 'Inverse STD Scaled')"
   ]
  },
  {
   "cell_type": "code",
   "execution_count": 4,
   "id": "e8546217",
   "metadata": {},
   "outputs": [
    {
     "name": "stdout",
     "output_type": "stream",
     "text": [
      "Original\n",
      "data: [-8.44776017 -3.73563744 -2.59298899 -5.39246083 -2.02357399],  label: [2 0 1 0 1]\n",
      "Original after shuffle\n",
      "data: [-8.44776017 -3.73563744 -2.59298899 -5.39246083 -2.02357399],  label: [2 0 1 0 1]\n",
      "Shuffled\n",
      "data: [-8.95084114  1.72409235 -1.43312382 -8.39327843 -2.85048057],  label: [2 0 0 2 0]\n"
     ]
    }
   ],
   "source": [
    "def print_head(data, label, msg): print(f'{msg}\\ndata: {data[:5,0]},  label: {label[:5]}')\n",
    "print_head(data, label, 'Original')\n",
    "data_shuffled, labels_shuffled = shuffle(data, label, random_state=1)\n",
    "print_head(data, label, 'Original after shuffle')\n",
    "print_head(data_shuffled, labels_shuffled, 'Shuffled')"
   ]
  },
  {
   "attachments": {},
   "cell_type": "markdown",
   "id": "bde846e3",
   "metadata": {},
   "source": [
    "Previous example: [/examples/toy_datasets.ipynb](https://github.com/serhatsoyer/py4ML/blob/main/examples/toy_datasets.ipynb)  \n",
    "Next example: [/examples/shallow/random_forests.ipynb](https://github.com/serhatsoyer/py4ML/blob/main/examples/shallow/random_forests.ipynb)"
   ]
  }
 ],
 "metadata": {
  "kernelspec": {
   "display_name": "Python 3.10.6 ('study')",
   "language": "python",
   "name": "python3"
  },
  "language_info": {
   "codemirror_mode": {
    "name": "ipython",
    "version": 3
   },
   "file_extension": ".py",
   "mimetype": "text/x-python",
   "name": "python",
   "nbconvert_exporter": "python",
   "pygments_lexer": "ipython3",
   "version": "3.10.8 (main, Nov 24 2022, 08:08:27) [Clang 14.0.6 ]"
  },
  "vscode": {
   "interpreter": {
    "hash": "29d06b973d1ddb34db3279b24f9b5152402e688db937648b736e855ec4de60c0"
   }
  }
 },
 "nbformat": 4,
 "nbformat_minor": 5
}
