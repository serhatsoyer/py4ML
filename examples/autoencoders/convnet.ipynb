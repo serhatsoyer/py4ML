{
 "cells": [
  {
   "attachments": {},
   "cell_type": "markdown",
   "id": "ce734de3",
   "metadata": {},
   "source": [
    "### Deep Convnet\n",
    "\n",
    "|Example Name|[intro](https://github.com/serhatsoyer/py4ML/blob/main/examples/autoencoders/intro.ipynb)|Deep Convnet (This Example)|\n",
    "|-|-|-|\n",
    "|Model Type|Shallow Dense|Deep 2D Conv.|\n",
    "|Total params|50,992|4,385|\n",
    "|Total time (min)|1.0|10.3|\n",
    "|Num of epochs|50|50|  \n",
    "\n",
    "Autoencoder result in this example seems to be better but training of deep 2D conv. layers take much longer  \n",
    "\n",
    "Previous example: [/examples/autoencoders/sparse.ipynb](https://github.com/serhatsoyer/py4ML/blob/main/examples/autoencoders/sparse.ipynb)  \n",
    "Modified from: [blog.keras.io/building-autoencoders-in-keras](https://blog.keras.io/building-autoencoders-in-keras.html)  \n",
    "It was the last example. [Return to the main page](https://github.com/serhatsoyer/py4ML)"
   ]
  },
  {
   "cell_type": "code",
   "execution_count": 1,
   "id": "74e32580",
   "metadata": {},
   "outputs": [],
   "source": [
    "import keras\n",
    "from keras import layers\n",
    "from keras.datasets import mnist\n",
    "import numpy as np\n",
    "import matplotlib.pyplot as plt"
   ]
  },
  {
   "cell_type": "code",
   "execution_count": 2,
   "id": "e48d3a91",
   "metadata": {},
   "outputs": [
    {
     "name": "stdout",
     "output_type": "stream",
     "text": [
      "Metal device set to: Apple M2\n",
      "\n",
      "systemMemory: 8.00 GB\n",
      "maxCacheSize: 2.67 GB\n",
      "\n",
      "num_of_dims = 128\n",
      "\n",
      "autoencoder:\n",
      "Model: \"model_1\"\n",
      "_________________________________________________________________\n",
      " Layer (type)                Output Shape              Param #   \n",
      "=================================================================\n",
      " input_1 (InputLayer)        [(None, 28, 28, 1)]       0         \n",
      "                                                                 \n",
      " conv2d (Conv2D)             (None, 28, 28, 16)        160       \n",
      "                                                                 \n",
      " max_pooling2d (MaxPooling2D  (None, 14, 14, 16)       0         \n",
      " )                                                               \n",
      "                                                                 \n",
      " conv2d_1 (Conv2D)           (None, 14, 14, 8)         1160      \n",
      "                                                                 \n",
      " max_pooling2d_1 (MaxPooling  (None, 7, 7, 8)          0         \n",
      " 2D)                                                             \n",
      "                                                                 \n",
      " conv2d_2 (Conv2D)           (None, 7, 7, 8)           584       \n",
      "                                                                 \n",
      " final (MaxPooling2D)        (None, 4, 4, 8)           0         \n",
      "                                                                 \n",
      " conv2d_3 (Conv2D)           (None, 4, 4, 8)           584       \n",
      "                                                                 \n",
      " up_sampling2d (UpSampling2D  (None, 8, 8, 8)          0         \n",
      " )                                                               \n",
      "                                                                 \n",
      " conv2d_4 (Conv2D)           (None, 8, 8, 8)           584       \n",
      "                                                                 \n",
      " up_sampling2d_1 (UpSampling  (None, 16, 16, 8)        0         \n",
      " 2D)                                                             \n",
      "                                                                 \n",
      " conv2d_5 (Conv2D)           (None, 14, 14, 16)        1168      \n",
      "                                                                 \n",
      " up_sampling2d_2 (UpSampling  (None, 28, 28, 16)       0         \n",
      " 2D)                                                             \n",
      "                                                                 \n",
      " conv2d_6 (Conv2D)           (None, 28, 28, 1)         145       \n",
      "                                                                 \n",
      "=================================================================\n",
      "Total params: 4,385\n",
      "Trainable params: 4,385\n",
      "Non-trainable params: 0\n",
      "_________________________________________________________________\n"
     ]
    },
    {
     "name": "stderr",
     "output_type": "stream",
     "text": [
      "2022-12-30 14:39:53.364643: I tensorflow/core/common_runtime/pluggable_device/pluggable_device_factory.cc:306] Could not identify NUMA node of platform GPU ID 0, defaulting to 0. Your kernel may not have been built with NUMA support.\n",
      "2022-12-30 14:39:53.364748: I tensorflow/core/common_runtime/pluggable_device/pluggable_device_factory.cc:272] Created TensorFlow device (/job:localhost/replica:0/task:0/device:GPU:0 with 0 MB memory) -> physical PluggableDevice (device: 0, name: METAL, pci bus id: <undefined>)\n"
     ]
    }
   ],
   "source": [
    "input_img = keras.Input(shape=(28, 28, 1))\n",
    "\n",
    "x = layers.Conv2D(16, (3, 3), activation='relu', padding='same')(input_img)\n",
    "x = layers.MaxPooling2D((2, 2), padding='same')(x)\n",
    "x = layers.Conv2D(8, (3, 3), activation='relu', padding='same')(x)\n",
    "x = layers.MaxPooling2D((2, 2), padding='same')(x)\n",
    "x = layers.Conv2D(8, (3, 3), activation='relu', padding='same')(x)\n",
    "encoded = layers.MaxPooling2D((2, 2), padding='same', name='final')(x)\n",
    "\n",
    "# This model maps an input to its encoded representation\n",
    "encoder = keras.Model(input_img, encoded)\n",
    "\n",
    "num_of_dims = np.prod(encoder.output.shape[1:])\n",
    "print(f'{num_of_dims = }\\n')\n",
    "\n",
    "# at this point the representation is (4, 4, 8) i.e. 128-dimensional\n",
    "\n",
    "x = layers.Conv2D(8, (3, 3), activation='relu', padding='same')(encoded)\n",
    "x = layers.UpSampling2D((2, 2))(x)\n",
    "x = layers.Conv2D(8, (3, 3), activation='relu', padding='same')(x)\n",
    "x = layers.UpSampling2D((2, 2))(x)\n",
    "x = layers.Conv2D(16, (3, 3), activation='relu')(x)\n",
    "x = layers.UpSampling2D((2, 2))(x)\n",
    "decoded = layers.Conv2D(1, (3, 3), activation='sigmoid', padding='same')(x)\n",
    "\n",
    "autoencoder = keras.Model(input_img, decoded)\n",
    "autoencoder.compile(optimizer='adam', loss='binary_crossentropy')\n",
    "\n",
    "# Create the decoder model\n",
    "decoder = keras.Model(inputs=encoder.get_layer('final').output, outputs=autoencoder.output)\n",
    "\n",
    "print('autoencoder:'); autoencoder.summary()"
   ]
  },
  {
   "cell_type": "code",
   "execution_count": 3,
   "id": "ea6d9610",
   "metadata": {},
   "outputs": [
    {
     "name": "stdout",
     "output_type": "stream",
     "text": [
      "encoder:\n",
      "Model: \"model\"\n",
      "_________________________________________________________________\n",
      " Layer (type)                Output Shape              Param #   \n",
      "=================================================================\n",
      " input_1 (InputLayer)        [(None, 28, 28, 1)]       0         \n",
      "                                                                 \n",
      " conv2d (Conv2D)             (None, 28, 28, 16)        160       \n",
      "                                                                 \n",
      " max_pooling2d (MaxPooling2D  (None, 14, 14, 16)       0         \n",
      " )                                                               \n",
      "                                                                 \n",
      " conv2d_1 (Conv2D)           (None, 14, 14, 8)         1160      \n",
      "                                                                 \n",
      " max_pooling2d_1 (MaxPooling  (None, 7, 7, 8)          0         \n",
      " 2D)                                                             \n",
      "                                                                 \n",
      " conv2d_2 (Conv2D)           (None, 7, 7, 8)           584       \n",
      "                                                                 \n",
      " final (MaxPooling2D)        (None, 4, 4, 8)           0         \n",
      "                                                                 \n",
      "=================================================================\n",
      "Total params: 1,904\n",
      "Trainable params: 1,904\n",
      "Non-trainable params: 0\n",
      "_________________________________________________________________\n"
     ]
    }
   ],
   "source": [
    "print('encoder:'); encoder.summary()"
   ]
  },
  {
   "cell_type": "code",
   "execution_count": 4,
   "id": "9658d84e",
   "metadata": {},
   "outputs": [
    {
     "name": "stdout",
     "output_type": "stream",
     "text": [
      "decoder:\n",
      "Model: \"model_2\"\n",
      "_________________________________________________________________\n",
      " Layer (type)                Output Shape              Param #   \n",
      "=================================================================\n",
      " input_2 (InputLayer)        [(None, 4, 4, 8)]         0         \n",
      "                                                                 \n",
      " conv2d_3 (Conv2D)           (None, 4, 4, 8)           584       \n",
      "                                                                 \n",
      " up_sampling2d (UpSampling2D  (None, 8, 8, 8)          0         \n",
      " )                                                               \n",
      "                                                                 \n",
      " conv2d_4 (Conv2D)           (None, 8, 8, 8)           584       \n",
      "                                                                 \n",
      " up_sampling2d_1 (UpSampling  (None, 16, 16, 8)        0         \n",
      " 2D)                                                             \n",
      "                                                                 \n",
      " conv2d_5 (Conv2D)           (None, 14, 14, 16)        1168      \n",
      "                                                                 \n",
      " up_sampling2d_2 (UpSampling  (None, 28, 28, 16)       0         \n",
      " 2D)                                                             \n",
      "                                                                 \n",
      " conv2d_6 (Conv2D)           (None, 28, 28, 1)         145       \n",
      "                                                                 \n",
      "=================================================================\n",
      "Total params: 2,481\n",
      "Trainable params: 2,481\n",
      "Non-trainable params: 0\n",
      "_________________________________________________________________\n"
     ]
    }
   ],
   "source": [
    "print('decoder:'); decoder.summary()"
   ]
  },
  {
   "cell_type": "code",
   "execution_count": 5,
   "id": "d1d5efa0",
   "metadata": {},
   "outputs": [
    {
     "name": "stdout",
     "output_type": "stream",
     "text": [
      "x_train.shape = (60000, 28, 28, 1)\n",
      "x_test.shape = (10000, 28, 28, 1)\n"
     ]
    }
   ],
   "source": [
    "(x_train, _), (x_test, _) = mnist.load_data() # Labels ignored\n",
    "x_train = x_train.astype('float32') / 255.\n",
    "x_test = x_test.astype('float32') / 255.\n",
    "x_train = np.reshape(x_train, (len(x_train), 28, 28, 1))\n",
    "x_test = np.reshape(x_test, (len(x_test), 28, 28, 1))\n",
    "print(f'{x_train.shape = }')\n",
    "print(f'{x_test.shape = }')"
   ]
  },
  {
   "cell_type": "code",
   "execution_count": 6,
   "id": "0b95fd83",
   "metadata": {},
   "outputs": [
    {
     "name": "stdout",
     "output_type": "stream",
     "text": [
      "Epoch 1/50\n"
     ]
    },
    {
     "name": "stderr",
     "output_type": "stream",
     "text": [
      "2022-12-30 14:39:54.009851: W tensorflow/core/platform/profile_utils/cpu_utils.cc:128] Failed to get CPU frequency: 0 Hz\n",
      "2022-12-30 14:39:54.394080: I tensorflow/core/grappler/optimizers/custom_graph_optimizer_registry.cc:114] Plugin optimizer for device_type GPU is enabled.\n"
     ]
    },
    {
     "name": "stdout",
     "output_type": "stream",
     "text": [
      "469/469 [==============================] - ETA: 0s - loss: 0.2131"
     ]
    },
    {
     "name": "stderr",
     "output_type": "stream",
     "text": [
      "2022-12-30 14:40:08.500640: I tensorflow/core/grappler/optimizers/custom_graph_optimizer_registry.cc:114] Plugin optimizer for device_type GPU is enabled.\n"
     ]
    },
    {
     "name": "stdout",
     "output_type": "stream",
     "text": [
      "469/469 [==============================] - 16s 28ms/step - loss: 0.2131 - val_loss: 0.1435\n",
      "Epoch 2/50\n",
      "469/469 [==============================] - 13s 27ms/step - loss: 0.1327 - val_loss: 0.1233\n",
      "Epoch 3/50\n",
      "469/469 [==============================] - 13s 27ms/step - loss: 0.1201 - val_loss: 0.1156\n",
      "Epoch 4/50\n",
      "469/469 [==============================] - 13s 27ms/step - loss: 0.1147 - val_loss: 0.1115\n",
      "Epoch 5/50\n",
      "469/469 [==============================] - 13s 27ms/step - loss: 0.1112 - val_loss: 0.1086\n",
      "Epoch 6/50\n",
      "469/469 [==============================] - 12s 26ms/step - loss: 0.1088 - val_loss: 0.1064\n",
      "Epoch 7/50\n",
      "469/469 [==============================] - 13s 27ms/step - loss: 0.1068 - val_loss: 0.1052\n",
      "Epoch 8/50\n",
      "469/469 [==============================] - 12s 26ms/step - loss: 0.1052 - val_loss: 0.1030\n",
      "Epoch 9/50\n",
      "469/469 [==============================] - 13s 27ms/step - loss: 0.1038 - val_loss: 0.1020\n",
      "Epoch 10/50\n",
      "469/469 [==============================] - 12s 26ms/step - loss: 0.1026 - val_loss: 0.1011\n",
      "Epoch 11/50\n",
      "469/469 [==============================] - 12s 26ms/step - loss: 0.1016 - val_loss: 0.1003\n",
      "Epoch 12/50\n",
      "469/469 [==============================] - 12s 26ms/step - loss: 0.1007 - val_loss: 0.0990\n",
      "Epoch 13/50\n",
      "469/469 [==============================] - 12s 26ms/step - loss: 0.1000 - val_loss: 0.0984\n",
      "Epoch 14/50\n",
      "469/469 [==============================] - 12s 26ms/step - loss: 0.0994 - val_loss: 0.0979\n",
      "Epoch 15/50\n",
      "469/469 [==============================] - 12s 26ms/step - loss: 0.0988 - val_loss: 0.0973\n",
      "Epoch 16/50\n",
      "469/469 [==============================] - 12s 26ms/step - loss: 0.0983 - val_loss: 0.0968\n",
      "Epoch 17/50\n",
      "469/469 [==============================] - 12s 26ms/step - loss: 0.0978 - val_loss: 0.0965\n",
      "Epoch 18/50\n",
      "469/469 [==============================] - 12s 25ms/step - loss: 0.0973 - val_loss: 0.0961\n",
      "Epoch 19/50\n",
      "469/469 [==============================] - 12s 26ms/step - loss: 0.0969 - val_loss: 0.0956\n",
      "Epoch 20/50\n",
      "469/469 [==============================] - 12s 26ms/step - loss: 0.0966 - val_loss: 0.0957\n",
      "Epoch 21/50\n",
      "469/469 [==============================] - 12s 26ms/step - loss: 0.0962 - val_loss: 0.0953\n",
      "Epoch 22/50\n",
      "469/469 [==============================] - 12s 26ms/step - loss: 0.0959 - val_loss: 0.0945\n",
      "Epoch 23/50\n",
      "469/469 [==============================] - 12s 26ms/step - loss: 0.0955 - val_loss: 0.0948\n",
      "Epoch 24/50\n",
      "469/469 [==============================] - 13s 27ms/step - loss: 0.0952 - val_loss: 0.0941\n",
      "Epoch 25/50\n",
      "469/469 [==============================] - 12s 27ms/step - loss: 0.0949 - val_loss: 0.0936\n",
      "Epoch 26/50\n",
      "469/469 [==============================] - 12s 26ms/step - loss: 0.0947 - val_loss: 0.0934\n",
      "Epoch 27/50\n",
      "469/469 [==============================] - 13s 27ms/step - loss: 0.0944 - val_loss: 0.0941\n",
      "Epoch 28/50\n",
      "469/469 [==============================] - 12s 26ms/step - loss: 0.0942 - val_loss: 0.0930\n",
      "Epoch 29/50\n",
      "469/469 [==============================] - 12s 26ms/step - loss: 0.0939 - val_loss: 0.0927\n",
      "Epoch 30/50\n",
      "469/469 [==============================] - 12s 25ms/step - loss: 0.0937 - val_loss: 0.0928\n",
      "Epoch 31/50\n",
      "469/469 [==============================] - 13s 28ms/step - loss: 0.0935 - val_loss: 0.0923\n",
      "Epoch 32/50\n",
      "469/469 [==============================] - 12s 25ms/step - loss: 0.0933 - val_loss: 0.0924\n",
      "Epoch 33/50\n",
      "469/469 [==============================] - 12s 26ms/step - loss: 0.0930 - val_loss: 0.0921\n",
      "Epoch 34/50\n",
      "469/469 [==============================] - 12s 25ms/step - loss: 0.0929 - val_loss: 0.0917\n",
      "Epoch 35/50\n",
      "469/469 [==============================] - 12s 25ms/step - loss: 0.0926 - val_loss: 0.0916\n",
      "Epoch 36/50\n",
      "469/469 [==============================] - 12s 25ms/step - loss: 0.0925 - val_loss: 0.0914\n",
      "Epoch 37/50\n",
      "469/469 [==============================] - 12s 25ms/step - loss: 0.0923 - val_loss: 0.0912\n",
      "Epoch 38/50\n",
      "469/469 [==============================] - 12s 26ms/step - loss: 0.0922 - val_loss: 0.0913\n",
      "Epoch 39/50\n",
      "469/469 [==============================] - 12s 26ms/step - loss: 0.0920 - val_loss: 0.0908\n",
      "Epoch 40/50\n",
      "469/469 [==============================] - 12s 26ms/step - loss: 0.0919 - val_loss: 0.0908\n",
      "Epoch 41/50\n",
      "469/469 [==============================] - 12s 26ms/step - loss: 0.0917 - val_loss: 0.0909\n",
      "Epoch 42/50\n",
      "469/469 [==============================] - 12s 26ms/step - loss: 0.0916 - val_loss: 0.0904\n",
      "Epoch 43/50\n",
      "469/469 [==============================] - 12s 26ms/step - loss: 0.0914 - val_loss: 0.0905\n",
      "Epoch 44/50\n",
      "469/469 [==============================] - 12s 25ms/step - loss: 0.0913 - val_loss: 0.0903\n",
      "Epoch 45/50\n",
      "469/469 [==============================] - 12s 25ms/step - loss: 0.0913 - val_loss: 0.0901\n",
      "Epoch 46/50\n",
      "469/469 [==============================] - 12s 26ms/step - loss: 0.0911 - val_loss: 0.0902\n",
      "Epoch 47/50\n",
      "469/469 [==============================] - 13s 27ms/step - loss: 0.0910 - val_loss: 0.0901\n",
      "Epoch 48/50\n",
      "469/469 [==============================] - 13s 27ms/step - loss: 0.0909 - val_loss: 0.0898\n",
      "Epoch 49/50\n",
      "469/469 [==============================] - 13s 27ms/step - loss: 0.0908 - val_loss: 0.0897\n",
      "Epoch 50/50\n",
      "469/469 [==============================] - 13s 27ms/step - loss: 0.0907 - val_loss: 0.0896\n"
     ]
    },
    {
     "data": {
      "text/plain": [
       "<keras.callbacks.History at 0x177bb7eb0>"
      ]
     },
     "execution_count": 6,
     "metadata": {},
     "output_type": "execute_result"
    }
   ],
   "source": [
    "autoencoder.fit(x_train, x_train, epochs=50, batch_size=128, shuffle=True, validation_data=(x_test, x_test))"
   ]
  },
  {
   "cell_type": "code",
   "execution_count": 7,
   "id": "0ad16e1a",
   "metadata": {},
   "outputs": [
    {
     "name": "stderr",
     "output_type": "stream",
     "text": [
      "2022-12-30 14:50:11.507259: I tensorflow/core/grappler/optimizers/custom_graph_optimizer_registry.cc:114] Plugin optimizer for device_type GPU is enabled.\n",
      "2022-12-30 14:50:12.015862: I tensorflow/core/grappler/optimizers/custom_graph_optimizer_registry.cc:114] Plugin optimizer for device_type GPU is enabled.\n"
     ]
    },
    {
     "name": "stdout",
     "output_type": "stream",
     "text": [
      "encoded_imgs.mean() = 2.8696058\n",
      "encoded_imgs.std() = 2.2790337\n"
     ]
    }
   ],
   "source": [
    "# Encode and decode some digits\n",
    "# Note that we take them from the *test* set\n",
    "encoded_imgs = encoder.predict(x_test, verbose=0)\n",
    "decoded_imgs = decoder.predict(encoded_imgs, verbose=0)\n",
    "print(f'{encoded_imgs.mean() = }')\n",
    "print(f'{encoded_imgs.std() = }')"
   ]
  },
  {
   "cell_type": "code",
   "execution_count": 8,
   "id": "c2ab5fea",
   "metadata": {},
   "outputs": [
    {
     "data": {
      "image/png": "[encoded data removed]",
      "text/plain": [
       "<Figure size 1000x200 with 20 Axes>"
      ]
     },
     "metadata": {},
     "output_type": "display_data"
    }
   ],
   "source": [
    "num_of_digits_to_display = 10\n",
    "plt.style.use('dark_background')\n",
    "fig = plt.figure(figsize=(10, 2))\n",
    "fig.subplots_adjust(hspace=0)\n",
    "for digit_idx in range(num_of_digits_to_display):\n",
    "    # Display original\n",
    "    ax = plt.subplot(2, num_of_digits_to_display, digit_idx + 1)\n",
    "    plt.imshow(x_test[digit_idx].reshape(28, 28))\n",
    "    plt.gray()\n",
    "    ax.get_xaxis().set_visible(False)\n",
    "    ax.get_yaxis().set_visible(False)\n",
    "\n",
    "    # Display reconstruction\n",
    "    ax = plt.subplot(2, num_of_digits_to_display, digit_idx + 1 + num_of_digits_to_display)\n",
    "    plt.imshow(decoded_imgs[digit_idx].reshape(28, 28))\n",
    "    plt.gray()\n",
    "    ax.get_xaxis().set_visible(False)\n",
    "    ax.get_yaxis().set_visible(False)\n",
    "\n",
    "plt.show()"
   ]
  },
  {
   "attachments": {},
   "cell_type": "markdown",
   "id": "c484cb68",
   "metadata": {},
   "source": [
    "Previous example: [/examples/autoencoders/sparse.ipynb](https://github.com/serhatsoyer/py4ML/blob/main/examples/autoencoders/sparse.ipynb)  \n",
    "Modified from: [blog.keras.io/building-autoencoders-in-keras](https://blog.keras.io/building-autoencoders-in-keras.html)  \n",
    "It was the last example. [Return to the main page](https://github.com/serhatsoyer/py4ML)"
   ]
  }
 ],
 "metadata": {
  "kernelspec": {
   "display_name": "Python 3.10.6 ('study')",
   "language": "python",
   "name": "python3"
  },
  "language_info": {
   "codemirror_mode": {
    "name": "ipython",
    "version": 3
   },
   "file_extension": ".py",
   "mimetype": "text/x-python",
   "name": "python",
   "nbconvert_exporter": "python",
   "pygments_lexer": "ipython3",
   "version": "3.10.8"
  },
  "vscode": {
   "interpreter": {
    "hash": "29d06b973d1ddb34db3279b24f9b5152402e688db937648b736e855ec4de60c0"
   }
  }
 },
 "nbformat": 4,
 "nbformat_minor": 5
}
