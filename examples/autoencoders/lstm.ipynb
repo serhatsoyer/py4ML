{
 "cells": [
  {
   "attachments": {},
   "cell_type": "markdown",
   "id": "ce734de3",
   "metadata": {},
   "source": [
    "### LSTM Autoencoder\n",
    "\n",
    "Previous example: [/examples/gan/intro.ipynb](https://github.com/serhatsoyer/py4ML/blob/main/examples/gan/intro.ipynb)  \n",
    "Modified from: [A Gentle Introduction to LSTM Autoencoders](https://machinelearningmastery.com/lstm-autoencoders/)  \n",
    "Next example: [/examples/time_series/autoencoder.ipynb](https://github.com/serhatsoyer/py4ML/blob/main/examples/time_series/autoencoder.ipynb)"
   ]
  },
  {
   "cell_type": "code",
   "execution_count": 1,
   "id": "12544e8a",
   "metadata": {},
   "outputs": [],
   "source": [
    "from numpy import linspace\n",
    "from keras.models import Sequential, Model\n",
    "from keras.layers import LSTM, RepeatVector, Dense, TimeDistributed"
   ]
  },
  {
   "cell_type": "code",
   "execution_count": 2,
   "id": "4f6a95c5",
   "metadata": {},
   "outputs": [
    {
     "name": "stdout",
     "output_type": "stream",
     "text": [
      "First elements:\n",
      "0                   in: -1.000, out: -0.889\n",
      "1                   in: -0.944, out: -0.833\n",
      "2                   in: -0.889, out: -0.778\n",
      "3                   in: -0.833, out: -0.722\n",
      "4                   in: -0.778, out: -0.667\n",
      "5                   in: -0.722, out: -0.611\n",
      "6                   in: -0.667, out: -0.556\n",
      "\n",
      "Last elements:\n",
      "-7                  in: 0.389, out: 0.667\n",
      "-6                  in: 0.444, out: 0.722\n",
      "-5                  in: 0.500, out: 0.778\n",
      "-4                  in: 0.556, out: 0.833\n",
      "-3                  in: 0.611, out: 0.889\n",
      "-2                  in: 0.667, out: 0.944\n",
      "-1                  in: 0.722, out: 1.000\n"
     ]
    }
   ],
   "source": [
    "dim_of_in = 32\n",
    "pred_shift = 2\n",
    "extra_out_dim = 3\n",
    "extra_end = pred_shift + extra_out_dim\n",
    "seq_all = linspace(-1, 1, dim_of_in + extra_end)\n",
    "seq_all = seq_all.reshape((1, -1, 1)) # [samples, timesteps, features]\n",
    "seq_in = seq_all[:, :-extra_end, :]\n",
    "seq_out = seq_all[:, pred_shift:, :]\n",
    "dim_of_out = len(seq_out[0, :, 0])\n",
    "def disp(v1, v2, n1, n2):\n",
    "    i0 = extra_end + 2\n",
    "    print('First elements:')\n",
    "    for i1 in range(i0): print(f'{i1:<20}{n1}: {v1[0, i1, 0]:.3f}, {n2}: {v2[0, i1, 0]:.3f}')\n",
    "    print('\\nLast elements:')\n",
    "    for i1 in reversed(range(i0)): i2 = i1 + 1; print(f'{-i2:<20}{n1}: {v1[0, -i2, 0]:.3f}, {n2}: {v2[0, -i2, 0]:.3f}')\n",
    "\n",
    "disp(seq_in, seq_out, 'in', 'out')\n",
    "del pred_shift, extra_out_dim, seq_all"
   ]
  },
  {
   "cell_type": "code",
   "execution_count": 3,
   "id": "5e565804",
   "metadata": {},
   "outputs": [
    {
     "name": "stdout",
     "output_type": "stream",
     "text": [
      "Metal device set to: Apple M2\n",
      "\n",
      "systemMemory: 8.00 GB\n",
      "maxCacheSize: 2.67 GB\n",
      "\n"
     ]
    },
    {
     "name": "stderr",
     "output_type": "stream",
     "text": [
      "2023-01-04 10:25:17.040218: I tensorflow/core/common_runtime/pluggable_device/pluggable_device_factory.cc:306] Could not identify NUMA node of platform GPU ID 0, defaulting to 0. Your kernel may not have been built with NUMA support.\n",
      "2023-01-04 10:25:17.040336: I tensorflow/core/common_runtime/pluggable_device/pluggable_device_factory.cc:272] Created TensorFlow device (/job:localhost/replica:0/task:0/device:GPU:0 with 0 MB memory) -> physical PluggableDevice (device: 0, name: METAL, pci bus id: <undefined>)\n"
     ]
    },
    {
     "name": "stdout",
     "output_type": "stream",
     "text": [
      "Model: \"sequential\"\n",
      "_________________________________________________________________\n",
      " Layer (type)                Output Shape              Param #   \n",
      "=================================================================\n",
      " encoder (LSTM)              (None, 16)                1152      \n",
      "                                                                 \n",
      " repeat_vector (RepeatVector  (None, 35, 16)           0         \n",
      " )                                                               \n",
      "                                                                 \n",
      " lstm (LSTM)                 (None, 35, 16)            2112      \n",
      "                                                                 \n",
      " time_distributed (TimeDistr  (None, 35, 1)            17        \n",
      " ibuted)                                                         \n",
      "                                                                 \n",
      "=================================================================\n",
      "Total params: 3,281\n",
      "Trainable params: 3,281\n",
      "Non-trainable params: 0\n",
      "_________________________________________________________________\n"
     ]
    }
   ],
   "source": [
    "model = Sequential()\n",
    "model.add(LSTM(16, input_shape=(dim_of_in, 1), name='encoder'))\n",
    "model.add(RepeatVector(dim_of_out))\n",
    "model.add(LSTM(16, return_sequences=True))\n",
    "model.add(TimeDistributed(Dense(1)))\n",
    "model.compile(optimizer='adam', loss='mse')\n",
    "model.summary()"
   ]
  },
  {
   "cell_type": "code",
   "execution_count": 4,
   "id": "454bdf05",
   "metadata": {},
   "outputs": [
    {
     "name": "stderr",
     "output_type": "stream",
     "text": [
      "2023-01-04 10:25:17.481353: W tensorflow/core/platform/profile_utils/cpu_utils.cc:128] Failed to get CPU frequency: 0 Hz\n",
      "2023-01-04 10:25:18.510999: I tensorflow/core/grappler/optimizers/custom_graph_optimizer_registry.cc:114] Plugin optimizer for device_type GPU is enabled.\n",
      "2023-01-04 10:25:18.673101: I tensorflow/core/grappler/optimizers/custom_graph_optimizer_registry.cc:114] Plugin optimizer for device_type GPU is enabled.\n",
      "2023-01-04 10:25:18.765173: I tensorflow/core/grappler/optimizers/custom_graph_optimizer_registry.cc:114] Plugin optimizer for device_type GPU is enabled.\n",
      "2023-01-04 10:25:18.879252: I tensorflow/core/grappler/optimizers/custom_graph_optimizer_registry.cc:114] Plugin optimizer for device_type GPU is enabled.\n",
      "2023-01-04 10:25:19.062073: I tensorflow/core/grappler/optimizers/custom_graph_optimizer_registry.cc:114] Plugin optimizer for device_type GPU is enabled.\n"
     ]
    },
    {
     "data": {
      "text/plain": [
       "<keras.callbacks.History at 0x16a10ee90>"
      ]
     },
     "execution_count": 4,
     "metadata": {},
     "output_type": "execute_result"
    }
   ],
   "source": [
    "model.fit(seq_in, seq_out, epochs=128, verbose=0)"
   ]
  },
  {
   "cell_type": "code",
   "execution_count": 5,
   "id": "703357d0",
   "metadata": {},
   "outputs": [
    {
     "name": "stdout",
     "output_type": "stream",
     "text": [
      "First elements:\n",
      "0                   out: -0.889, pred: -0.512\n",
      "1                   out: -0.833, pred: -0.741\n",
      "2                   out: -0.778, pred: -0.816\n",
      "3                   out: -0.722, pred: -0.804\n",
      "4                   out: -0.667, pred: -0.747\n",
      "5                   out: -0.611, pred: -0.671\n",
      "6                   out: -0.556, pred: -0.589\n",
      "\n",
      "Last elements:\n",
      "-7                  out: 0.667, pred: 0.687\n",
      "-6                  out: 0.722, pred: 0.749\n",
      "-5                  out: 0.778, pred: 0.811\n",
      "-4                  out: 0.833, pred: 0.872\n",
      "-3                  out: 0.889, pred: 0.931\n",
      "-2                  out: 0.944, pred: 0.985\n",
      "-1                  out: 1.000, pred: 1.036\n"
     ]
    },
    {
     "name": "stderr",
     "output_type": "stream",
     "text": [
      "2023-01-04 10:25:21.973593: I tensorflow/core/grappler/optimizers/custom_graph_optimizer_registry.cc:114] Plugin optimizer for device_type GPU is enabled.\n",
      "2023-01-04 10:25:22.029186: I tensorflow/core/grappler/optimizers/custom_graph_optimizer_registry.cc:114] Plugin optimizer for device_type GPU is enabled.\n",
      "2023-01-04 10:25:22.085078: I tensorflow/core/grappler/optimizers/custom_graph_optimizer_registry.cc:114] Plugin optimizer for device_type GPU is enabled.\n"
     ]
    }
   ],
   "source": [
    "seq_pred = model.predict(seq_in, verbose=0)\n",
    "disp(seq_out, seq_pred, 'out', 'pred')"
   ]
  },
  {
   "cell_type": "code",
   "execution_count": 6,
   "id": "97cf3690",
   "metadata": {},
   "outputs": [
    {
     "name": "stdout",
     "output_type": "stream",
     "text": [
      "Model: \"model\"\n",
      "_________________________________________________________________\n",
      " Layer (type)                Output Shape              Param #   \n",
      "=================================================================\n",
      " encoder_input (InputLayer)  [(None, 32, 1)]           0         \n",
      "                                                                 \n",
      " encoder (LSTM)              (None, 16)                1152      \n",
      "                                                                 \n",
      "=================================================================\n",
      "Total params: 1,152\n",
      "Trainable params: 1,152\n",
      "Non-trainable params: 0\n",
      "_________________________________________________________________\n"
     ]
    }
   ],
   "source": [
    "encoder = Model(inputs=model.inputs, outputs=model.get_layer('encoder').output)\n",
    "encoder.summary()"
   ]
  },
  {
   "cell_type": "code",
   "execution_count": 7,
   "id": "1fcf3314",
   "metadata": {},
   "outputs": [
    {
     "name": "stdout",
     "output_type": "stream",
     "text": [
      "seq_in.shape = (1, 32, 1), seq_encoded.shape = (1, 16)\n"
     ]
    },
    {
     "name": "stderr",
     "output_type": "stream",
     "text": [
      "2023-01-04 10:25:22.309579: I tensorflow/core/grappler/optimizers/custom_graph_optimizer_registry.cc:114] Plugin optimizer for device_type GPU is enabled.\n",
      "2023-01-04 10:25:22.339579: I tensorflow/core/grappler/optimizers/custom_graph_optimizer_registry.cc:114] Plugin optimizer for device_type GPU is enabled.\n"
     ]
    }
   ],
   "source": [
    "seq_encoded = encoder.predict(seq_in, verbose=0)\n",
    "print(f'{seq_in.shape = }, {seq_encoded.shape = }')"
   ]
  },
  {
   "attachments": {},
   "cell_type": "markdown",
   "id": "193448ac",
   "metadata": {},
   "source": [
    "Previous example: [/examples/gan/intro.ipynb](https://github.com/serhatsoyer/py4ML/blob/main/examples/gan/intro.ipynb)  \n",
    "Modified from: [A Gentle Introduction to LSTM Autoencoders](https://machinelearningmastery.com/lstm-autoencoders/)  \n",
    "Next example: [/examples/time_series/autoencoder.ipynb](https://github.com/serhatsoyer/py4ML/blob/main/examples/time_series/autoencoder.ipynb)"
   ]
  }
 ],
 "metadata": {
  "kernelspec": {
   "display_name": "Python 3.10.6 ('study')",
   "language": "python",
   "name": "python3"
  },
  "language_info": {
   "codemirror_mode": {
    "name": "ipython",
    "version": 3
   },
   "file_extension": ".py",
   "mimetype": "text/x-python",
   "name": "python",
   "nbconvert_exporter": "python",
   "pygments_lexer": "ipython3",
   "version": "3.10.8"
  },
  "vscode": {
   "interpreter": {
    "hash": "29d06b973d1ddb34db3279b24f9b5152402e688db937648b736e855ec4de60c0"
   }
  }
 },
 "nbformat": 4,
 "nbformat_minor": 5
}
