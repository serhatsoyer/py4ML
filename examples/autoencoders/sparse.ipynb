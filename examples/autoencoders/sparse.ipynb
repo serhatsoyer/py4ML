{
 "cells": [
  {
   "attachments": {},
   "cell_type": "markdown",
   "id": "ce734de3",
   "metadata": {},
   "source": [
    "### Sparsity Constraint on the Encoded Representations\n",
    "\n",
    "Differences compared to the [previous example](https://github.com/serhatsoyer/py4ML/blob/main/examples/autoencoders/intro.ipynb):  \n",
    "- *L1* regularizer has been included in the encoder dense layer\n",
    "- Number of epochs have been increased from 50 to 100 (it is possible without overtraining thanks to regularization)\n",
    "- *encoded_imgs.mean()* was $8.9$ in [intro](https://github.com/serhatsoyer/py4ML/blob/main/examples/autoencoders/intro.ipynb). It is $1.3$ for this example thanks to regularization\n",
    "- *encoded_imgs.std()* was $4.6$ in [intro](https://github.com/serhatsoyer/py4ML/blob/main/examples/autoencoders/intro.ipynb). It is $0.8$ for this example\n",
    "\n",
    "Previous example: [/examples/autoencoders/intro.ipynb](https://github.com/serhatsoyer/py4ML/blob/main/examples/autoencoders/intro.ipynb)  \n",
    "Modified from: [blog.keras.io/building-autoencoders-in-keras](https://blog.keras.io/building-autoencoders-in-keras.html)  \n",
    "Next example: [/examples/autoencoders/convnet.ipynb](https://github.com/serhatsoyer/py4ML/blob/main/examples/autoencoders/convnet.ipynb)"
   ]
  },
  {
   "cell_type": "code",
   "execution_count": 1,
   "id": "74e32580",
   "metadata": {},
   "outputs": [],
   "source": [
    "import keras\n",
    "from keras import layers\n",
    "from keras.datasets import mnist\n",
    "from keras import regularizers\n",
    "import numpy as np\n",
    "import matplotlib.pyplot as plt"
   ]
  },
  {
   "cell_type": "code",
   "execution_count": 2,
   "id": "e48d3a91",
   "metadata": {},
   "outputs": [
    {
     "name": "stdout",
     "output_type": "stream",
     "text": [
      "Metal device set to: Apple M2\n",
      "\n",
      "systemMemory: 8.00 GB\n",
      "maxCacheSize: 2.67 GB\n",
      "\n",
      "autoencoder:\n",
      "Model: \"model\"\n",
      "_________________________________________________________________\n",
      " Layer (type)                Output Shape              Param #   \n",
      "=================================================================\n",
      " input_1 (InputLayer)        [(None, 784)]             0         \n",
      "                                                                 \n",
      " dense (Dense)               (None, 32)                25120     \n",
      "                                                                 \n",
      " dense_1 (Dense)             (None, 784)               25872     \n",
      "                                                                 \n",
      "=================================================================\n",
      "Total params: 50,992\n",
      "Trainable params: 50,992\n",
      "Non-trainable params: 0\n",
      "_________________________________________________________________\n",
      "\n",
      "encoder:\n",
      "Model: \"model_1\"\n",
      "_________________________________________________________________\n",
      " Layer (type)                Output Shape              Param #   \n",
      "=================================================================\n",
      " input_1 (InputLayer)        [(None, 784)]             0         \n",
      "                                                                 \n",
      " dense (Dense)               (None, 32)                25120     \n",
      "                                                                 \n",
      "=================================================================\n",
      "Total params: 25,120\n",
      "Trainable params: 25,120\n",
      "Non-trainable params: 0\n",
      "_________________________________________________________________\n",
      "\n",
      "decoder:\n",
      "Model: \"model_2\"\n",
      "_________________________________________________________________\n",
      " Layer (type)                Output Shape              Param #   \n",
      "=================================================================\n",
      " input_2 (InputLayer)        [(None, 32)]              0         \n",
      "                                                                 \n",
      " dense_1 (Dense)             (None, 784)               25872     \n",
      "                                                                 \n",
      "=================================================================\n",
      "Total params: 25,872\n",
      "Trainable params: 25,872\n",
      "Non-trainable params: 0\n",
      "_________________________________________________________________\n"
     ]
    },
    {
     "name": "stderr",
     "output_type": "stream",
     "text": [
      "2022-12-30 13:45:52.112578: I tensorflow/core/common_runtime/pluggable_device/pluggable_device_factory.cc:306] Could not identify NUMA node of platform GPU ID 0, defaulting to 0. Your kernel may not have been built with NUMA support.\n",
      "2022-12-30 13:45:52.112684: I tensorflow/core/common_runtime/pluggable_device/pluggable_device_factory.cc:272] Created TensorFlow device (/job:localhost/replica:0/task:0/device:GPU:0 with 0 MB memory) -> physical PluggableDevice (device: 0, name: METAL, pci bus id: <undefined>)\n"
     ]
    }
   ],
   "source": [
    "# This is the size of our encoded representations\n",
    "encoding_dim = 32 # 32 floats -> compression of factor 24.5, assuming the input is 784 floats\n",
    "\n",
    "# This is our input image\n",
    "input_img = keras.Input(shape=(784,))\n",
    "# \"encoded\" is the encoded representation of the input\n",
    "encoded = layers.Dense(encoding_dim, activation='relu', activity_regularizer=regularizers.l1(10e-5))(input_img)\n",
    "# \"decoded\" is the lossy reconstruction of the input\n",
    "decoded = layers.Dense(784, activation='sigmoid')(encoded)\n",
    "\n",
    "# This model maps an input to its reconstruction\n",
    "autoencoder = keras.Model(input_img, decoded)\n",
    "\n",
    "# This model maps an input to its encoded representation\n",
    "encoder = keras.Model(input_img, encoded)\n",
    "\n",
    "# This is our encoded (32-dimensional) input\n",
    "encoded_input = keras.Input(shape=(encoding_dim,))\n",
    "# Retrieve the last layer of the autoencoder model\n",
    "decoder_layer = autoencoder.layers[-1]\n",
    "# Create the decoder model\n",
    "decoder = keras.Model(encoded_input, decoder_layer(encoded_input))\n",
    "\n",
    "autoencoder.compile(optimizer='adam', loss='binary_crossentropy')\n",
    "\n",
    "print('autoencoder:'); autoencoder.summary(); print()\n",
    "print('encoder:'); encoder.summary(); print()\n",
    "print('decoder:'); decoder.summary()"
   ]
  },
  {
   "cell_type": "code",
   "execution_count": 3,
   "id": "d1d5efa0",
   "metadata": {},
   "outputs": [
    {
     "name": "stdout",
     "output_type": "stream",
     "text": [
      "x_train.shape = (60000, 784)\n",
      "x_test.shape = (10000, 784)\n"
     ]
    }
   ],
   "source": [
    "(x_train, _), (x_test, _) = mnist.load_data() # Labels ignored\n",
    "x_train = x_train.astype('float32') / 255.\n",
    "x_test = x_test.astype('float32') / 255.\n",
    "x_train = x_train.reshape((len(x_train), np.prod(x_train.shape[1:])))\n",
    "x_test = x_test.reshape((len(x_test), np.prod(x_test.shape[1:])))\n",
    "print(f'{x_train.shape = }')\n",
    "print(f'{x_test.shape = }')"
   ]
  },
  {
   "cell_type": "code",
   "execution_count": 4,
   "id": "0b95fd83",
   "metadata": {},
   "outputs": [
    {
     "name": "stdout",
     "output_type": "stream",
     "text": [
      "Epoch 1/100\n"
     ]
    },
    {
     "name": "stderr",
     "output_type": "stream",
     "text": [
      "2022-12-30 13:45:52.642517: W tensorflow/core/platform/profile_utils/cpu_utils.cc:128] Failed to get CPU frequency: 0 Hz\n",
      "2022-12-30 13:45:52.814465: I tensorflow/core/grappler/optimizers/custom_graph_optimizer_registry.cc:114] Plugin optimizer for device_type GPU is enabled.\n"
     ]
    },
    {
     "name": "stdout",
     "output_type": "stream",
     "text": [
      "235/235 [==============================] - 3s 6ms/step - loss: 0.2867 - val_loss: 0.2019\n",
      "Epoch 2/100\n",
      "  1/235 [..............................] - ETA: 1s - loss: 0.2008"
     ]
    },
    {
     "name": "stderr",
     "output_type": "stream",
     "text": [
      "2022-12-30 13:45:55.020297: I tensorflow/core/grappler/optimizers/custom_graph_optimizer_registry.cc:114] Plugin optimizer for device_type GPU is enabled.\n"
     ]
    },
    {
     "name": "stdout",
     "output_type": "stream",
     "text": [
      "235/235 [==============================] - 1s 5ms/step - loss: 0.1809 - val_loss: 0.1632\n",
      "Epoch 3/100\n",
      "235/235 [==============================] - 1s 5ms/step - loss: 0.1544 - val_loss: 0.1442\n",
      "Epoch 4/100\n",
      "235/235 [==============================] - 1s 5ms/step - loss: 0.1394 - val_loss: 0.1324\n",
      "Epoch 5/100\n",
      "235/235 [==============================] - 1s 5ms/step - loss: 0.1295 - val_loss: 0.1241\n",
      "Epoch 6/100\n",
      "235/235 [==============================] - 1s 5ms/step - loss: 0.1224 - val_loss: 0.1182\n",
      "Epoch 7/100\n",
      "235/235 [==============================] - 1s 5ms/step - loss: 0.1174 - val_loss: 0.1141\n",
      "Epoch 8/100\n",
      "235/235 [==============================] - 1s 5ms/step - loss: 0.1139 - val_loss: 0.1112\n",
      "Epoch 9/100\n",
      "235/235 [==============================] - 1s 5ms/step - loss: 0.1115 - val_loss: 0.1091\n",
      "Epoch 10/100\n",
      "235/235 [==============================] - 1s 5ms/step - loss: 0.1096 - val_loss: 0.1076\n",
      "Epoch 11/100\n",
      "235/235 [==============================] - 1s 5ms/step - loss: 0.1083 - val_loss: 0.1064\n",
      "Epoch 12/100\n",
      "235/235 [==============================] - 1s 5ms/step - loss: 0.1073 - val_loss: 0.1056\n",
      "Epoch 13/100\n",
      "235/235 [==============================] - 1s 5ms/step - loss: 0.1065 - val_loss: 0.1048\n",
      "Epoch 14/100\n",
      "235/235 [==============================] - 1s 5ms/step - loss: 0.1058 - val_loss: 0.1043\n",
      "Epoch 15/100\n",
      "235/235 [==============================] - 1s 5ms/step - loss: 0.1053 - val_loss: 0.1037\n",
      "Epoch 16/100\n",
      "235/235 [==============================] - 1s 5ms/step - loss: 0.1048 - val_loss: 0.1033\n",
      "Epoch 17/100\n",
      "235/235 [==============================] - 1s 5ms/step - loss: 0.1043 - val_loss: 0.1029\n",
      "Epoch 18/100\n",
      "235/235 [==============================] - 1s 5ms/step - loss: 0.1039 - val_loss: 0.1025\n",
      "Epoch 19/100\n",
      "235/235 [==============================] - 1s 5ms/step - loss: 0.1036 - val_loss: 0.1022\n",
      "Epoch 20/100\n",
      "235/235 [==============================] - 1s 5ms/step - loss: 0.1033 - val_loss: 0.1019\n",
      "Epoch 21/100\n",
      "235/235 [==============================] - 1s 5ms/step - loss: 0.1030 - val_loss: 0.1016\n",
      "Epoch 22/100\n",
      "235/235 [==============================] - 1s 5ms/step - loss: 0.1027 - val_loss: 0.1014\n",
      "Epoch 23/100\n",
      "235/235 [==============================] - 1s 5ms/step - loss: 0.1024 - val_loss: 0.1011\n",
      "Epoch 24/100\n",
      "235/235 [==============================] - 1s 5ms/step - loss: 0.1022 - val_loss: 0.1009\n",
      "Epoch 25/100\n",
      "235/235 [==============================] - 1s 5ms/step - loss: 0.1020 - val_loss: 0.1007\n",
      "Epoch 26/100\n",
      "235/235 [==============================] - 1s 5ms/step - loss: 0.1018 - val_loss: 0.1005\n",
      "Epoch 27/100\n",
      "235/235 [==============================] - 1s 5ms/step - loss: 0.1016 - val_loss: 0.1003\n",
      "Epoch 28/100\n",
      "235/235 [==============================] - 1s 5ms/step - loss: 0.1014 - val_loss: 0.1002\n",
      "Epoch 29/100\n",
      "235/235 [==============================] - 1s 5ms/step - loss: 0.1012 - val_loss: 0.1000\n",
      "Epoch 30/100\n",
      "235/235 [==============================] - 1s 5ms/step - loss: 0.1010 - val_loss: 0.0998\n",
      "Epoch 31/100\n",
      "235/235 [==============================] - 1s 5ms/step - loss: 0.1009 - val_loss: 0.0997\n",
      "Epoch 32/100\n",
      "235/235 [==============================] - 1s 5ms/step - loss: 0.1007 - val_loss: 0.0996\n",
      "Epoch 33/100\n",
      "235/235 [==============================] - 1s 5ms/step - loss: 0.1006 - val_loss: 0.0994\n",
      "Epoch 34/100\n",
      "235/235 [==============================] - 1s 5ms/step - loss: 0.1005 - val_loss: 0.0993\n",
      "Epoch 35/100\n",
      "235/235 [==============================] - 1s 5ms/step - loss: 0.1003 - val_loss: 0.0992\n",
      "Epoch 36/100\n",
      "235/235 [==============================] - 1s 5ms/step - loss: 0.1002 - val_loss: 0.0990\n",
      "Epoch 37/100\n",
      "235/235 [==============================] - 1s 5ms/step - loss: 0.1001 - val_loss: 0.0990\n",
      "Epoch 38/100\n",
      "235/235 [==============================] - 1s 5ms/step - loss: 0.1000 - val_loss: 0.0989\n",
      "Epoch 39/100\n",
      "235/235 [==============================] - 1s 5ms/step - loss: 0.0999 - val_loss: 0.0988\n",
      "Epoch 40/100\n",
      "235/235 [==============================] - 1s 5ms/step - loss: 0.0998 - val_loss: 0.0986\n",
      "Epoch 41/100\n",
      "235/235 [==============================] - 1s 5ms/step - loss: 0.0997 - val_loss: 0.0985\n",
      "Epoch 42/100\n",
      "235/235 [==============================] - 1s 5ms/step - loss: 0.0996 - val_loss: 0.0985\n",
      "Epoch 43/100\n",
      "235/235 [==============================] - 1s 5ms/step - loss: 0.0995 - val_loss: 0.0984\n",
      "Epoch 44/100\n",
      "235/235 [==============================] - 1s 5ms/step - loss: 0.0994 - val_loss: 0.0983\n",
      "Epoch 45/100\n",
      "235/235 [==============================] - 1s 5ms/step - loss: 0.0993 - val_loss: 0.0982\n",
      "Epoch 46/100\n",
      "235/235 [==============================] - 1s 5ms/step - loss: 0.0992 - val_loss: 0.0981\n",
      "Epoch 47/100\n",
      "235/235 [==============================] - 2s 7ms/step - loss: 0.0991 - val_loss: 0.0980\n",
      "Epoch 48/100\n",
      "235/235 [==============================] - 1s 5ms/step - loss: 0.0990 - val_loss: 0.0980\n",
      "Epoch 49/100\n",
      "235/235 [==============================] - 1s 5ms/step - loss: 0.0990 - val_loss: 0.0979\n",
      "Epoch 50/100\n",
      "235/235 [==============================] - 1s 5ms/step - loss: 0.0989 - val_loss: 0.0978\n",
      "Epoch 51/100\n",
      "235/235 [==============================] - 1s 5ms/step - loss: 0.0988 - val_loss: 0.0977\n",
      "Epoch 52/100\n",
      "235/235 [==============================] - 1s 5ms/step - loss: 0.0988 - val_loss: 0.0977\n",
      "Epoch 53/100\n",
      "235/235 [==============================] - 1s 5ms/step - loss: 0.0987 - val_loss: 0.0977\n",
      "Epoch 54/100\n",
      "235/235 [==============================] - 1s 5ms/step - loss: 0.0986 - val_loss: 0.0976\n",
      "Epoch 55/100\n",
      "235/235 [==============================] - 1s 5ms/step - loss: 0.0986 - val_loss: 0.0975\n",
      "Epoch 56/100\n",
      "235/235 [==============================] - 1s 5ms/step - loss: 0.0985 - val_loss: 0.0975\n",
      "Epoch 57/100\n",
      "235/235 [==============================] - 1s 5ms/step - loss: 0.0985 - val_loss: 0.0974\n",
      "Epoch 58/100\n",
      "235/235 [==============================] - 1s 5ms/step - loss: 0.0984 - val_loss: 0.0973\n",
      "Epoch 59/100\n",
      "235/235 [==============================] - 1s 5ms/step - loss: 0.0983 - val_loss: 0.0973\n",
      "Epoch 60/100\n",
      "235/235 [==============================] - 1s 5ms/step - loss: 0.0983 - val_loss: 0.0972\n",
      "Epoch 61/100\n",
      "235/235 [==============================] - 1s 5ms/step - loss: 0.0982 - val_loss: 0.0972\n",
      "Epoch 62/100\n",
      "235/235 [==============================] - 1s 5ms/step - loss: 0.0982 - val_loss: 0.0972\n",
      "Epoch 63/100\n",
      "235/235 [==============================] - 1s 5ms/step - loss: 0.0981 - val_loss: 0.0971\n",
      "Epoch 64/100\n",
      "235/235 [==============================] - 1s 5ms/step - loss: 0.0981 - val_loss: 0.0971\n",
      "Epoch 65/100\n",
      "235/235 [==============================] - 1s 5ms/step - loss: 0.0980 - val_loss: 0.0970\n",
      "Epoch 66/100\n",
      "235/235 [==============================] - 1s 5ms/step - loss: 0.0980 - val_loss: 0.0969\n",
      "Epoch 67/100\n",
      "235/235 [==============================] - 1s 5ms/step - loss: 0.0979 - val_loss: 0.0969\n",
      "Epoch 68/100\n",
      "235/235 [==============================] - 1s 5ms/step - loss: 0.0979 - val_loss: 0.0969\n",
      "Epoch 69/100\n",
      "235/235 [==============================] - 1s 5ms/step - loss: 0.0978 - val_loss: 0.0968\n",
      "Epoch 70/100\n",
      "235/235 [==============================] - 1s 5ms/step - loss: 0.0978 - val_loss: 0.0967\n",
      "Epoch 71/100\n",
      "235/235 [==============================] - 1s 5ms/step - loss: 0.0977 - val_loss: 0.0967\n",
      "Epoch 72/100\n",
      "235/235 [==============================] - 1s 5ms/step - loss: 0.0977 - val_loss: 0.0967\n",
      "Epoch 73/100\n",
      "235/235 [==============================] - 1s 5ms/step - loss: 0.0977 - val_loss: 0.0967\n",
      "Epoch 74/100\n",
      "235/235 [==============================] - 1s 5ms/step - loss: 0.0976 - val_loss: 0.0967\n",
      "Epoch 75/100\n",
      "235/235 [==============================] - 1s 5ms/step - loss: 0.0976 - val_loss: 0.0966\n",
      "Epoch 76/100\n",
      "235/235 [==============================] - 1s 5ms/step - loss: 0.0975 - val_loss: 0.0966\n",
      "Epoch 77/100\n",
      "235/235 [==============================] - 1s 5ms/step - loss: 0.0975 - val_loss: 0.0966\n",
      "Epoch 78/100\n",
      "235/235 [==============================] - 1s 5ms/step - loss: 0.0975 - val_loss: 0.0965\n",
      "Epoch 79/100\n",
      "235/235 [==============================] - 1s 5ms/step - loss: 0.0974 - val_loss: 0.0965\n",
      "Epoch 80/100\n",
      "235/235 [==============================] - 1s 5ms/step - loss: 0.0974 - val_loss: 0.0963\n",
      "Epoch 81/100\n",
      "235/235 [==============================] - 1s 5ms/step - loss: 0.0974 - val_loss: 0.0963\n",
      "Epoch 82/100\n",
      "235/235 [==============================] - 1s 5ms/step - loss: 0.0973 - val_loss: 0.0964\n",
      "Epoch 83/100\n",
      "235/235 [==============================] - 1s 5ms/step - loss: 0.0973 - val_loss: 0.0963\n",
      "Epoch 84/100\n",
      "235/235 [==============================] - 1s 5ms/step - loss: 0.0972 - val_loss: 0.0963\n",
      "Epoch 85/100\n",
      "235/235 [==============================] - 1s 5ms/step - loss: 0.0972 - val_loss: 0.0962\n",
      "Epoch 86/100\n",
      "235/235 [==============================] - 1s 5ms/step - loss: 0.0972 - val_loss: 0.0963\n",
      "Epoch 87/100\n",
      "235/235 [==============================] - 1s 5ms/step - loss: 0.0971 - val_loss: 0.0962\n",
      "Epoch 88/100\n",
      "235/235 [==============================] - 1s 5ms/step - loss: 0.0971 - val_loss: 0.0961\n",
      "Epoch 89/100\n",
      "235/235 [==============================] - 1s 5ms/step - loss: 0.0971 - val_loss: 0.0962\n",
      "Epoch 90/100\n",
      "235/235 [==============================] - 1s 5ms/step - loss: 0.0971 - val_loss: 0.0960\n",
      "Epoch 91/100\n",
      "235/235 [==============================] - 1s 5ms/step - loss: 0.0970 - val_loss: 0.0960\n",
      "Epoch 92/100\n",
      "235/235 [==============================] - 1s 5ms/step - loss: 0.0970 - val_loss: 0.0960\n",
      "Epoch 93/100\n",
      "235/235 [==============================] - 1s 5ms/step - loss: 0.0970 - val_loss: 0.0960\n",
      "Epoch 94/100\n",
      "235/235 [==============================] - 1s 5ms/step - loss: 0.0969 - val_loss: 0.0959\n",
      "Epoch 95/100\n",
      "235/235 [==============================] - 1s 5ms/step - loss: 0.0969 - val_loss: 0.0959\n",
      "Epoch 96/100\n",
      "235/235 [==============================] - 1s 5ms/step - loss: 0.0969 - val_loss: 0.0959\n",
      "Epoch 97/100\n",
      "235/235 [==============================] - 1s 5ms/step - loss: 0.0968 - val_loss: 0.0959\n",
      "Epoch 98/100\n",
      "235/235 [==============================] - 1s 5ms/step - loss: 0.0968 - val_loss: 0.0958\n",
      "Epoch 99/100\n",
      "235/235 [==============================] - 1s 5ms/step - loss: 0.0968 - val_loss: 0.0958\n",
      "Epoch 100/100\n",
      "235/235 [==============================] - 1s 5ms/step - loss: 0.0968 - val_loss: 0.0958\n"
     ]
    },
    {
     "data": {
      "text/plain": [
       "<keras.callbacks.History at 0x1679cab90>"
      ]
     },
     "execution_count": 4,
     "metadata": {},
     "output_type": "execute_result"
    }
   ],
   "source": [
    "autoencoder.fit(x_train, x_train, epochs=100, batch_size=256, shuffle=True, validation_data=(x_test, x_test))"
   ]
  },
  {
   "cell_type": "code",
   "execution_count": 5,
   "id": "0ad16e1a",
   "metadata": {},
   "outputs": [
    {
     "name": "stderr",
     "output_type": "stream",
     "text": [
      "2022-12-30 13:47:49.825106: I tensorflow/core/grappler/optimizers/custom_graph_optimizer_registry.cc:114] Plugin optimizer for device_type GPU is enabled.\n",
      "2022-12-30 13:47:50.157988: I tensorflow/core/grappler/optimizers/custom_graph_optimizer_registry.cc:114] Plugin optimizer for device_type GPU is enabled.\n"
     ]
    },
    {
     "name": "stdout",
     "output_type": "stream",
     "text": [
      "encoded_imgs.mean() = 1.2759832\n",
      "encoded_imgs.std() = 0.8427344\n"
     ]
    }
   ],
   "source": [
    "# Encode and decode some digits\n",
    "# Note that we take them from the *test* set\n",
    "encoded_imgs = encoder.predict(x_test, verbose=0)\n",
    "decoded_imgs = decoder.predict(encoded_imgs, verbose=0)\n",
    "print(f'{encoded_imgs.mean() = }')\n",
    "print(f'{encoded_imgs.std() = }')"
   ]
  },
  {
   "cell_type": "code",
   "execution_count": 6,
   "id": "c2ab5fea",
   "metadata": {},
   "outputs": [
    {
     "data": {
      "image/png": "[encoded data removed]",
      "text/plain": [
       "<Figure size 1000x200 with 20 Axes>"
      ]
     },
     "metadata": {},
     "output_type": "display_data"
    }
   ],
   "source": [
    "num_of_digits_to_display = 10\n",
    "plt.style.use('dark_background')\n",
    "fig = plt.figure(figsize=(10, 2))\n",
    "fig.subplots_adjust(hspace=0)\n",
    "for digit_idx in range(num_of_digits_to_display):\n",
    "    # Display original\n",
    "    ax = plt.subplot(2, num_of_digits_to_display, digit_idx + 1)\n",
    "    plt.imshow(x_test[digit_idx].reshape(28, 28))\n",
    "    plt.gray()\n",
    "    ax.get_xaxis().set_visible(False)\n",
    "    ax.get_yaxis().set_visible(False)\n",
    "\n",
    "    # Display reconstruction\n",
    "    ax = plt.subplot(2, num_of_digits_to_display, digit_idx + 1 + num_of_digits_to_display)\n",
    "    plt.imshow(decoded_imgs[digit_idx].reshape(28, 28))\n",
    "    plt.gray()\n",
    "    ax.get_xaxis().set_visible(False)\n",
    "    ax.get_yaxis().set_visible(False)\n",
    "\n",
    "plt.show()"
   ]
  },
  {
   "attachments": {},
   "cell_type": "markdown",
   "id": "c484cb68",
   "metadata": {},
   "source": [
    "Previous example: [/examples/autoencoders/intro.ipynb](https://github.com/serhatsoyer/py4ML/blob/main/examples/autoencoders/intro.ipynb)  \n",
    "Modified from: [blog.keras.io/building-autoencoders-in-keras](https://blog.keras.io/building-autoencoders-in-keras.html)  \n",
    "Next example: [/examples/autoencoders/convnet.ipynb](https://github.com/serhatsoyer/py4ML/blob/main/examples/autoencoders/convnet.ipynb)"
   ]
  }
 ],
 "metadata": {
  "kernelspec": {
   "display_name": "Python 3.10.6 ('study')",
   "language": "python",
   "name": "python3"
  },
  "language_info": {
   "codemirror_mode": {
    "name": "ipython",
    "version": 3
   },
   "file_extension": ".py",
   "mimetype": "text/x-python",
   "name": "python",
   "nbconvert_exporter": "python",
   "pygments_lexer": "ipython3",
   "version": "3.10.8 (main, Nov 24 2022, 08:08:27) [Clang 14.0.6 ]"
  },
  "vscode": {
   "interpreter": {
    "hash": "29d06b973d1ddb34db3279b24f9b5152402e688db937648b736e855ec4de60c0"
   }
  }
 },
 "nbformat": 4,
 "nbformat_minor": 5
}
