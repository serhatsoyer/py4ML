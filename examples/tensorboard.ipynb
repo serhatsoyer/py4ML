{
 "cells": [
  {
   "attachments": {},
   "cell_type": "markdown",
   "id": "ce734de3",
   "metadata": {},
   "source": [
    "### Tensorboard\n",
    "\n",
    "Previous example: [/examples/shallow/grid_search_and_knn.ipynb](https://github.com/serhatsoyer/py4ML/blob/main/examples/shallow/grid_search_and_knn.ipynb)  \n",
    "Next example: [/examples/keras_applications/resnet50.ipynb](https://github.com/serhatsoyer/py4ML/blob/main/examples/keras_applications/resnet50.ipynb)"
   ]
  },
  {
   "cell_type": "code",
   "execution_count": 1,
   "id": "0e2a17e2",
   "metadata": {},
   "outputs": [],
   "source": [
    "import sys\n",
    "sys.path.insert(0, '../') # To be able to reach 'logs' folder\n",
    "from pathlib import Path\n",
    "from sklearn.datasets import load_diabetes # Regression\n",
    "from sklearn.model_selection import train_test_split\n",
    "from sklearn.preprocessing import StandardScaler\n",
    "from datetime import datetime\n",
    "from keras.callbacks import TensorBoard\n",
    "from keras.models import Sequential\n",
    "from keras.layers import Input, Dense, Dropout"
   ]
  },
  {
   "cell_type": "code",
   "execution_count": 2,
   "id": "c3f79c44",
   "metadata": {},
   "outputs": [
    {
     "name": "stdout",
     "output_type": "stream",
     "text": [
      "type(dataset) = <class 'sklearn.utils._bunch.Bunch'>\n",
      "dataset.keys = <built-in method keys of Bunch object at 0x176d0cb80>\n",
      "<class 'numpy.ndarray'> (442, 10) float64\n",
      "<class 'numpy.ndarray'> (442,) float64\n",
      "X_train                  : (331, 10)\n",
      "y_train                  : (331,)\n",
      "X_test                   : (111, 10)\n",
      "y_test                   : (111,)\n"
     ]
    }
   ],
   "source": [
    "dataset = load_diabetes()\n",
    "print(f'{type(dataset) = }')\n",
    "print(f'{dataset.keys = }')\n",
    "def print_field(field): print(type(dataset[field]), dataset[field].shape, dataset[field].dtype)\n",
    "print_field('data')\n",
    "print_field('target')\n",
    "def print_data(msg, data): print(f'{msg:25}: {data.shape}')\n",
    "X_train, X_test, y_train, y_test = train_test_split(dataset['data'], dataset['target'])\n",
    "scaler = StandardScaler()\n",
    "scaler.fit(X_train)\n",
    "X_train = scaler.transform(X_train)\n",
    "X_test = scaler.transform(X_test)\n",
    "print_data('X_train', X_train)\n",
    "print_data('y_train', y_train)\n",
    "print_data('X_test', X_test)\n",
    "print_data('y_test', y_test)"
   ]
  },
  {
   "cell_type": "code",
   "execution_count": 3,
   "id": "88f73166",
   "metadata": {},
   "outputs": [
    {
     "name": "stdout",
     "output_type": "stream",
     "text": [
      "Metal device set to: Apple M2\n",
      "\n",
      "systemMemory: 8.00 GB\n",
      "maxCacheSize: 2.67 GB\n",
      "\n",
      "Model: \"sequential\"\n",
      "_________________________________________________________________\n",
      " Layer (type)                Output Shape              Param #   \n",
      "=================================================================\n",
      " dense (Dense)               (None, 32)                352       \n",
      "                                                                 \n",
      " dropout (Dropout)           (None, 32)                0         \n",
      "                                                                 \n",
      " dense_1 (Dense)             (None, 32)                1056      \n",
      "                                                                 \n",
      " dropout_1 (Dropout)         (None, 32)                0         \n",
      "                                                                 \n",
      " dense_2 (Dense)             (None, 32)                1056      \n",
      "                                                                 \n",
      " dense_3 (Dense)             (None, 1)                 33        \n",
      "                                                                 \n",
      "=================================================================\n",
      "Total params: 2,497\n",
      "Trainable params: 2,497\n",
      "Non-trainable params: 0\n",
      "_________________________________________________________________\n"
     ]
    },
    {
     "name": "stderr",
     "output_type": "stream",
     "text": [
      "2022-12-21 21:53:48.345576: I tensorflow/core/common_runtime/pluggable_device/pluggable_device_factory.cc:306] Could not identify NUMA node of platform GPU ID 0, defaulting to 0. Your kernel may not have been built with NUMA support.\n",
      "2022-12-21 21:53:48.345981: I tensorflow/core/common_runtime/pluggable_device/pluggable_device_factory.cc:272] Created TensorFlow device (/job:localhost/replica:0/task:0/device:GPU:0 with 0 MB memory) -> physical PluggableDevice (device: 0, name: METAL, pci bus id: <undefined>)\n",
      "2022-12-21 21:53:48.507256: I tensorflow/core/profiler/lib/profiler_session.cc:101] Profiler session initializing.\n",
      "2022-12-21 21:53:48.507262: I tensorflow/core/profiler/lib/profiler_session.cc:116] Profiler session started.\n",
      "2022-12-21 21:53:48.507515: I tensorflow/core/profiler/lib/profiler_session.cc:128] Profiler session tear down.\n",
      "2022-12-21 21:53:48.555572: W tensorflow/core/platform/profile_utils/cpu_utils.cc:128] Failed to get CPU frequency: 0 Hz\n"
     ]
    },
    {
     "name": "stdout",
     "output_type": "stream",
     "text": [
      "Epoch 1/8\n"
     ]
    },
    {
     "name": "stderr",
     "output_type": "stream",
     "text": [
      "2022-12-21 21:53:48.779149: I tensorflow/core/grappler/optimizers/custom_graph_optimizer_registry.cc:114] Plugin optimizer for device_type GPU is enabled.\n"
     ]
    },
    {
     "name": "stdout",
     "output_type": "stream",
     "text": [
      "21/21 [==============================] - ETA: 0s - loss: 28420.1992 - root_mean_squared_error: 168.5829 - mean_absolute_error: 150.0103"
     ]
    },
    {
     "name": "stderr",
     "output_type": "stream",
     "text": [
      "2022-12-21 21:53:49.025081: I tensorflow/core/profiler/lib/profiler_session.cc:101] Profiler session initializing.\n",
      "2022-12-21 21:53:49.025090: I tensorflow/core/profiler/lib/profiler_session.cc:116] Profiler session started.\n",
      "2022-12-21 21:53:49.031469: I tensorflow/core/profiler/lib/profiler_session.cc:67] Profiler session collecting data.\n",
      "2022-12-21 21:53:49.035747: I tensorflow/core/profiler/lib/profiler_session.cc:128] Profiler session tear down.\n",
      "2022-12-21 21:53:49.040614: I tensorflow/core/profiler/rpc/client/save_profile.cc:136] Creating directory: /Users/serhatsoyer/Repos/py4ML/logs/2022_12_21_215348/plugins/profile/2022_12_21_21_53_49\n",
      "\n",
      "2022-12-21 21:53:49.041608: I tensorflow/core/profiler/rpc/client/save_profile.cc:142] Dumped gzipped tool data for trace.json.gz to /Users/serhatsoyer/Repos/py4ML/logs/2022_12_21_215348/plugins/profile/2022_12_21_21_53_49/Serhats-MacBook-Air.local.trace.json.gz\n",
      "2022-12-21 21:53:49.044338: I tensorflow/core/profiler/rpc/client/save_profile.cc:136] Creating directory: /Users/serhatsoyer/Repos/py4ML/logs/2022_12_21_215348/plugins/profile/2022_12_21_21_53_49\n",
      "\n",
      "2022-12-21 21:53:49.044487: I tensorflow/core/profiler/rpc/client/save_profile.cc:142] Dumped gzipped tool data for memory_profile.json.gz to /Users/serhatsoyer/Repos/py4ML/logs/2022_12_21_215348/plugins/profile/2022_12_21_21_53_49/Serhats-MacBook-Air.local.memory_profile.json.gz\n",
      "2022-12-21 21:53:49.044932: I tensorflow/core/profiler/rpc/client/capture_profile.cc:251] Creating directory: /Users/serhatsoyer/Repos/py4ML/logs/2022_12_21_215348/plugins/profile/2022_12_21_21_53_49\n",
      "Dumped tool data for xplane.pb to /Users/serhatsoyer/Repos/py4ML/logs/2022_12_21_215348/plugins/profile/2022_12_21_21_53_49/Serhats-MacBook-Air.local.xplane.pb\n",
      "Dumped tool data for overview_page.pb to /Users/serhatsoyer/Repos/py4ML/logs/2022_12_21_215348/plugins/profile/2022_12_21_21_53_49/Serhats-MacBook-Air.local.overview_page.pb\n",
      "Dumped tool data for input_pipeline.pb to /Users/serhatsoyer/Repos/py4ML/logs/2022_12_21_215348/plugins/profile/2022_12_21_21_53_49/Serhats-MacBook-Air.local.input_pipeline.pb\n",
      "Dumped tool data for tensorflow_stats.pb to /Users/serhatsoyer/Repos/py4ML/logs/2022_12_21_215348/plugins/profile/2022_12_21_21_53_49/Serhats-MacBook-Air.local.tensorflow_stats.pb\n",
      "Dumped tool data for kernel_stats.pb to /Users/serhatsoyer/Repos/py4ML/logs/2022_12_21_215348/plugins/profile/2022_12_21_21_53_49/Serhats-MacBook-Air.local.kernel_stats.pb\n",
      "\n",
      "2022-12-21 21:53:49.289076: I tensorflow/core/grappler/optimizers/custom_graph_optimizer_registry.cc:114] Plugin optimizer for device_type GPU is enabled.\n"
     ]
    },
    {
     "name": "stdout",
     "output_type": "stream",
     "text": [
      "21/21 [==============================] - 1s 24ms/step - loss: 28420.1992 - root_mean_squared_error: 168.5829 - mean_absolute_error: 150.0103 - val_loss: 30337.3770 - val_root_mean_squared_error: 174.1763 - val_mean_absolute_error: 156.0927\n",
      "Epoch 2/8\n",
      "21/21 [==============================] - 0s 10ms/step - loss: 28057.0098 - root_mean_squared_error: 167.5023 - mean_absolute_error: 148.8114 - val_loss: 29860.1543 - val_root_mean_squared_error: 172.8009 - val_mean_absolute_error: 154.5419\n",
      "Epoch 3/8\n",
      "21/21 [==============================] - 0s 12ms/step - loss: 27343.0703 - root_mean_squared_error: 165.3574 - mean_absolute_error: 146.4032 - val_loss: 28794.6465 - val_root_mean_squared_error: 169.6898 - val_mean_absolute_error: 151.0582\n",
      "Epoch 4/8\n",
      "21/21 [==============================] - 0s 9ms/step - loss: 25680.3965 - root_mean_squared_error: 160.2510 - mean_absolute_error: 140.7252 - val_loss: 26320.6270 - val_root_mean_squared_error: 162.2363 - val_mean_absolute_error: 142.7103\n",
      "Epoch 5/8\n",
      "21/21 [==============================] - 0s 12ms/step - loss: 22130.0820 - root_mean_squared_error: 148.7618 - mean_absolute_error: 127.5706 - val_loss: 21284.8516 - val_root_mean_squared_error: 145.8933 - val_mean_absolute_error: 124.9143\n",
      "Epoch 6/8\n",
      "21/21 [==============================] - 0s 10ms/step - loss: 15953.6797 - root_mean_squared_error: 126.3079 - mean_absolute_error: 103.6479 - val_loss: 13586.6289 - val_root_mean_squared_error: 116.5617 - val_mean_absolute_error: 95.5538\n",
      "Epoch 7/8\n",
      "21/21 [==============================] - 0s 11ms/step - loss: 8659.3203 - root_mean_squared_error: 93.0555 - mean_absolute_error: 71.9898 - val_loss: 6582.9043 - val_root_mean_squared_error: 81.1351 - val_mean_absolute_error: 64.4649\n",
      "Epoch 8/8\n",
      "21/21 [==============================] - 0s 9ms/step - loss: 4804.7397 - root_mean_squared_error: 69.3162 - mean_absolute_error: 53.4795 - val_loss: 4674.1748 - val_root_mean_squared_error: 68.3679 - val_mean_absolute_error: 53.7633\n"
     ]
    },
    {
     "data": {
      "text/plain": [
       "<keras.callbacks.History at 0x282b06770>"
      ]
     },
     "execution_count": 3,
     "metadata": {},
     "output_type": "execute_result"
    }
   ],
   "source": [
    "model = Sequential()\n",
    "model.add(Input(X_train.shape[1]))\n",
    "model.add(Dense(units=32, activation='relu'))\n",
    "model.add(Dropout(1 / 8))\n",
    "model.add(Dense(units=32, activation='relu'))\n",
    "model.add(Dropout(1 / 16))\n",
    "model.add(Dense(units=32, activation='relu'))\n",
    "model.add(Dense(1))\n",
    "model.compile(optimizer='adam', loss='mse', metrics=['RootMeanSquaredError', 'MeanAbsoluteError'])\n",
    "model.summary()\n",
    "log_path = Path.cwd().parent / 'logs' / datetime.now().strftime(\"%Y_%m_%d_%H%M%S\")\n",
    "tensorboard = TensorBoard(log_dir=log_path, histogram_freq=1, write_images=True, profile_batch=3, embeddings_freq=2)\n",
    "model.fit(X_train, y_train, batch_size=16, epochs=8, validation_data=(X_test, y_test), callbacks=[tensorboard])"
   ]
  },
  {
   "attachments": {},
   "cell_type": "markdown",
   "id": "a6006094",
   "metadata": {},
   "source": [
    "1. Open a new terminal on *VSCode* while you are at local *py4ML* repo directory\n",
    "2. conda activate study\n",
    "3. tensorboard --logdir logs --port 6006\n",
    "4. TensorBoard 2.10.1 at http://localhost:6006/ (Press CTRL+C to quit). Open it in your browser\n",
    "5. control + C from the terminal to quit\n",
    "\n",
    "Previous example: [/examples/shallow/grid_search_and_knn.ipynb](https://github.com/serhatsoyer/py4ML/blob/main/examples/shallow/grid_search_and_knn.ipynb)  \n",
    "Next example: [/examples/keras_applications/resnet50.ipynb](https://github.com/serhatsoyer/py4ML/blob/main/examples/keras_applications/resnet50.ipynb)"
   ]
  }
 ],
 "metadata": {
  "kernelspec": {
   "display_name": "Python 3.10.6 ('study')",
   "language": "python",
   "name": "python3"
  },
  "language_info": {
   "codemirror_mode": {
    "name": "ipython",
    "version": 3
   },
   "file_extension": ".py",
   "mimetype": "text/x-python",
   "name": "python",
   "nbconvert_exporter": "python",
   "pygments_lexer": "ipython3",
   "version": "3.10.8 (main, Nov 24 2022, 08:08:27) [Clang 14.0.6 ]"
  },
  "vscode": {
   "interpreter": {
    "hash": "29d06b973d1ddb34db3279b24f9b5152402e688db937648b736e855ec4de60c0"
   }
  }
 },
 "nbformat": 4,
 "nbformat_minor": 5
}
