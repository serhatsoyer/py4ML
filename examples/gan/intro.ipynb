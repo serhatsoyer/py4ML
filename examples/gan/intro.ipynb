{
 "cells": [
  {
   "attachments": {},
   "cell_type": "markdown",
   "id": "ce734de3",
   "metadata": {},
   "source": [
    "### GANs - Generative Adversarial Networks\n",
    "\n",
    "Previous example: [/examples/autoencoders/vae.ipynb](https://github.com/serhatsoyer/py4ML/blob/main/examples/autoencoders/vae.ipynb)  \n",
    "Modified from: [GAN section of Tensorflow Udemy Course from Jose Portilla - Pierian Training](https://www.udemy.com/course/complete-tensorflow-2-and-keras-deep-learning-bootcamp/)  \n",
    "Next example: [/examples/autoencoders/lstm.ipynb](https://github.com/serhatsoyer/py4ML/blob/main/examples/autoencoders/lstm.ipynb)"
   ]
  },
  {
   "cell_type": "code",
   "execution_count": 1,
   "id": "8d936099",
   "metadata": {},
   "outputs": [],
   "source": [
    "from keras.datasets import mnist\n",
    "import numpy as np\n",
    "import matplotlib.pyplot as plt\n",
    "from keras.models import Sequential\n",
    "from keras.layers import Dense, Dropout, Reshape, BatchNormalization, Conv2DTranspose, LeakyReLU, Conv2D, Flatten\n",
    "import tensorflow as tf"
   ]
  },
  {
   "cell_type": "code",
   "execution_count": 2,
   "id": "2410a145",
   "metadata": {},
   "outputs": [
    {
     "data": {
      "image/png": "[encoded data removed]",
      "text/plain": [
       "<Figure size 100x100 with 1 Axes>"
      ]
     },
     "metadata": {},
     "output_type": "display_data"
    },
    {
     "data": {
      "image/png": "[encoded data removed]",
      "text/plain": [
       "<Figure size 100x100 with 1 Axes>"
      ]
     },
     "metadata": {},
     "output_type": "display_data"
    },
    {
     "name": "stdout",
     "output_type": "stream",
     "text": [
      "x_train.min() = -1.0\n",
      "x_train.max() = 1.0\n"
     ]
    }
   ],
   "source": [
    "(x_train, y_train), (_, _) = mnist.load_data()\n",
    "plt.style.use('dark_background')\n",
    "plt.figure(figsize=(1, 1))\n",
    "plt.imshow(x_train[0])\n",
    "plt.show()\n",
    "x_train = x_train[y_train==0]\n",
    "plt.figure(figsize=(1, 1))\n",
    "plt.imshow(x_train[0])\n",
    "plt.show()\n",
    "x_train = x_train / 255\n",
    "x_train = x_train.reshape(-1, 28, 28, 1) * 2 - 1 # To make it look like 'tanh'\n",
    "print(f'{x_train.min() = }')\n",
    "print(f'{x_train.max() = }')"
   ]
  },
  {
   "cell_type": "code",
   "execution_count": 3,
   "id": "0a157ca7",
   "metadata": {},
   "outputs": [
    {
     "name": "stdout",
     "output_type": "stream",
     "text": [
      "Metal device set to: Apple M2\n",
      "\n",
      "systemMemory: 8.00 GB\n",
      "maxCacheSize: 2.67 GB\n",
      "\n",
      "generator.trainable = True\n",
      "discriminator.trainable = False\n",
      "GAN.trainable = True\n",
      "GAN.layers[0].trainable = True\n",
      "GAN.layers[1].trainable = False\n"
     ]
    },
    {
     "name": "stderr",
     "output_type": "stream",
     "text": [
      "2023-01-03 14:28:59.912090: I tensorflow/core/common_runtime/pluggable_device/pluggable_device_factory.cc:306] Could not identify NUMA node of platform GPU ID 0, defaulting to 0. Your kernel may not have been built with NUMA support.\n",
      "2023-01-03 14:28:59.912193: I tensorflow/core/common_runtime/pluggable_device/pluggable_device_factory.cc:272] Created TensorFlow device (/job:localhost/replica:0/task:0/device:GPU:0 with 0 MB memory) -> physical PluggableDevice (device: 0, name: METAL, pci bus id: <undefined>)\n"
     ]
    }
   ],
   "source": [
    "generator = Sequential()\n",
    "code_size = 32\n",
    "generator.add(Dense(7 * 7 * 128, input_shape=[code_size]))\n",
    "generator.add(Dropout(0.5))\n",
    "generator.add(Reshape([7, 7, 128]))\n",
    "generator.add(Conv2DTranspose(64, kernel_size=5, strides=2, padding='same', activation='relu'))\n",
    "generator.add(BatchNormalization())\n",
    "generator.add(Conv2DTranspose(1, kernel_size=5, strides=2, padding='same', activation='tanh'))\n",
    "\n",
    "discriminator = Sequential()\n",
    "discriminator.add(Conv2D(64, kernel_size=5, strides=2, padding='same', activation=LeakyReLU(0.3), input_shape=[28, 28, 1]))\n",
    "discriminator.add(Conv2D(128, kernel_size=5, strides=2, padding='same', activation=LeakyReLU(0.3)))\n",
    "discriminator.add(Flatten())\n",
    "discriminator.add(Dense(64, activation='relu'))\n",
    "discriminator.add(Dropout(0.25))\n",
    "discriminator.add(Dense(32, activation='relu'))\n",
    "discriminator.add(Dense(1, activation='sigmoid')) # Is this image real or fake\n",
    "discriminator.compile(loss='binary_crossentropy', optimizer='adam')\n",
    "\n",
    "GAN = Sequential([generator, discriminator])\n",
    "discriminator.trainable = False\n",
    "GAN.compile(loss='binary_crossentropy', optimizer='adam')\n",
    "\n",
    "print(f'{generator.trainable = }')\n",
    "print(f'{discriminator.trainable = }')\n",
    "print(f'{GAN.trainable = }')\n",
    "print(f'{GAN.layers[0].trainable = }')\n",
    "print(f'{GAN.layers[1].trainable = }')"
   ]
  },
  {
   "cell_type": "code",
   "execution_count": 4,
   "id": "5b090ec0",
   "metadata": {},
   "outputs": [
    {
     "name": "stdout",
     "output_type": "stream",
     "text": [
      "Model: \"sequential\"\n",
      "_________________________________________________________________\n",
      " Layer (type)                Output Shape              Param #   \n",
      "=================================================================\n",
      " dense (Dense)               (None, 6272)              206976    \n",
      "                                                                 \n",
      " dropout (Dropout)           (None, 6272)              0         \n",
      "                                                                 \n",
      " reshape (Reshape)           (None, 7, 7, 128)         0         \n",
      "                                                                 \n",
      " conv2d_transpose (Conv2DTra  (None, 14, 14, 64)       204864    \n",
      " nspose)                                                         \n",
      "                                                                 \n",
      " batch_normalization (BatchN  (None, 14, 14, 64)       256       \n",
      " ormalization)                                                   \n",
      "                                                                 \n",
      " conv2d_transpose_1 (Conv2DT  (None, 28, 28, 1)        1601      \n",
      " ranspose)                                                       \n",
      "                                                                 \n",
      "=================================================================\n",
      "Total params: 413,697\n",
      "Trainable params: 413,569\n",
      "Non-trainable params: 128\n",
      "_________________________________________________________________\n"
     ]
    }
   ],
   "source": [
    "generator.summary()"
   ]
  },
  {
   "cell_type": "code",
   "execution_count": 5,
   "id": "5c31d0b5",
   "metadata": {},
   "outputs": [
    {
     "name": "stdout",
     "output_type": "stream",
     "text": [
      "Model: \"sequential_1\"\n",
      "_________________________________________________________________\n",
      " Layer (type)                Output Shape              Param #   \n",
      "=================================================================\n",
      " conv2d (Conv2D)             (None, 14, 14, 64)        1664      \n",
      "                                                                 \n",
      " conv2d_1 (Conv2D)           (None, 7, 7, 128)         204928    \n",
      "                                                                 \n",
      " flatten (Flatten)           (None, 6272)              0         \n",
      "                                                                 \n",
      " dense_1 (Dense)             (None, 64)                401472    \n",
      "                                                                 \n",
      " dropout_1 (Dropout)         (None, 64)                0         \n",
      "                                                                 \n",
      " dense_2 (Dense)             (None, 32)                2080      \n",
      "                                                                 \n",
      " dense_3 (Dense)             (None, 1)                 33        \n",
      "                                                                 \n",
      "=================================================================\n",
      "Total params: 610,177\n",
      "Trainable params: 0\n",
      "Non-trainable params: 610,177\n",
      "_________________________________________________________________\n"
     ]
    }
   ],
   "source": [
    "discriminator.summary()"
   ]
  },
  {
   "cell_type": "code",
   "execution_count": 6,
   "id": "b94f4af0",
   "metadata": {},
   "outputs": [
    {
     "name": "stdout",
     "output_type": "stream",
     "text": [
      "Model: \"sequential_2\"\n",
      "_________________________________________________________________\n",
      " Layer (type)                Output Shape              Param #   \n",
      "=================================================================\n",
      " sequential (Sequential)     (None, 28, 28, 1)         413697    \n",
      "                                                                 \n",
      " sequential_1 (Sequential)   (None, 1)                 610177    \n",
      "                                                                 \n",
      "=================================================================\n",
      "Total params: 1,023,874\n",
      "Trainable params: 413,569\n",
      "Non-trainable params: 610,305\n",
      "_________________________________________________________________\n"
     ]
    }
   ],
   "source": [
    "GAN.summary()"
   ]
  },
  {
   "cell_type": "code",
   "execution_count": 7,
   "id": "d8d0efcf",
   "metadata": {},
   "outputs": [
    {
     "name": "stdout",
     "output_type": "stream",
     "text": [
      "type(dataset) = <class 'tensorflow.python.data.ops.dataset_ops.ShuffleDataset'>\n",
      "type(dataset) = <class 'tensorflow.python.data.ops.dataset_ops.BatchDataset'>\n"
     ]
    }
   ],
   "source": [
    "dataset = tf.data.Dataset.from_tensor_slices(x_train).shuffle(buffer_size=1000)\n",
    "print(f'{type(dataset) = }')\n",
    "batch_size = 128\n",
    "dataset = dataset.batch(batch_size, drop_remainder=True)\n",
    "print(f'{type(dataset) = }')"
   ]
  },
  {
   "cell_type": "code",
   "execution_count": 8,
   "id": "a7690012",
   "metadata": {},
   "outputs": [
    {
     "name": "stdout",
     "output_type": "stream",
     "text": [
      "Epoch #1\n"
     ]
    },
    {
     "name": "stderr",
     "output_type": "stream",
     "text": [
      "2023-01-03 14:29:00.493233: W tensorflow/core/platform/profile_utils/cpu_utils.cc:128] Failed to get CPU frequency: 0 Hz\n",
      "2023-01-03 14:29:00.493545: I tensorflow/core/grappler/optimizers/custom_graph_optimizer_registry.cc:114] Plugin optimizer for device_type GPU is enabled.\n",
      "2023-01-03 14:29:00.915356: I tensorflow/core/grappler/optimizers/custom_graph_optimizer_registry.cc:114] Plugin optimizer for device_type GPU is enabled.\n"
     ]
    },
    {
     "name": "stdout",
     "output_type": "stream",
     "text": [
      "Epoch #2\n",
      "Epoch #3\n",
      "Epoch #4\n",
      "Epoch #5\n",
      "Epoch #6\n",
      "Epoch #7\n",
      "Epoch #8\n",
      "Epoch #9\n",
      "Epoch #10\n",
      "Epoch #11\n",
      "Epoch #12\n",
      "Epoch #13\n",
      "Epoch #14\n",
      "Epoch #15\n",
      "Epoch #16\n"
     ]
    }
   ],
   "source": [
    "for epoch in range(16): # Number of epochs\n",
    "    print(f'Epoch #{epoch + 1}')\n",
    "    for x_batch in dataset:\n",
    "        gen_images = generator(tf.random.normal(shape=[batch_size, code_size]))\n",
    "        x_fake_vs_real = tf.concat([gen_images, tf.dtypes.cast(x_batch, tf.float32)], axis=0)\n",
    "        y_fake_vs_real = tf.constant([[0.]] * batch_size + [[1.]] * batch_size)\n",
    "        discriminator.trainable = True\n",
    "        discriminator.train_on_batch(x_fake_vs_real, y_fake_vs_real)\n",
    "        discriminator.trainable = False\n",
    "        GAN.train_on_batch(tf.random.normal(shape=[batch_size, code_size]), tf.constant([[1.]] * batch_size))\n",
    "        # Even if the input is random, try to fool the discriminator by labeling the input as 1"
   ]
  },
  {
   "cell_type": "code",
   "execution_count": 9,
   "id": "35bffced",
   "metadata": {},
   "outputs": [
    {
     "data": {
      "image/png": "[encoded data removed]",
      "text/plain": [
       "<Figure size 500x100 with 1 Axes>"
      ]
     },
     "metadata": {},
     "output_type": "display_data"
    },
    {
     "data": {
      "image/png": "[encoded data removed]",
      "text/plain": [
       "<Figure size 100x100 with 1 Axes>"
      ]
     },
     "metadata": {},
     "output_type": "display_data"
    },
    {
     "data": {
      "image/png": "[encoded data removed]",
      "text/plain": [
       "<Figure size 100x100 with 1 Axes>"
      ]
     },
     "metadata": {},
     "output_type": "display_data"
    },
    {
     "data": {
      "image/png": "[encoded data removed]",
      "text/plain": [
       "<Figure size 100x100 with 1 Axes>"
      ]
     },
     "metadata": {},
     "output_type": "display_data"
    },
    {
     "data": {
      "image/png": "[encoded data removed]",
      "text/plain": [
       "<Figure size 100x100 with 1 Axes>"
      ]
     },
     "metadata": {},
     "output_type": "display_data"
    },
    {
     "data": {
      "image/png": "[encoded data removed]",
      "text/plain": [
       "<Figure size 100x100 with 1 Axes>"
      ]
     },
     "metadata": {},
     "output_type": "display_data"
    }
   ],
   "source": [
    "num_of_images = 5\n",
    "noise = tf.random.normal(shape=[num_of_images, code_size])\n",
    "noise.shape\n",
    "plt.figure(figsize=(num_of_images, 1))\n",
    "plt.xticks([], [])\n",
    "plt.yticks([], [])\n",
    "plt.imshow(noise)\n",
    "plt.show()\n",
    "image = generator(noise)\n",
    "for idx in range(num_of_images):\n",
    "    plt.figure(figsize=(1, 1))\n",
    "    plt.xticks([], [])\n",
    "    plt.yticks([], [])\n",
    "    plt.imshow(image[idx])\n",
    "    plt.show()"
   ]
  },
  {
   "attachments": {},
   "cell_type": "markdown",
   "id": "c484cb68",
   "metadata": {},
   "source": [
    "Previous example: [/examples/autoencoders/vae.ipynb](https://github.com/serhatsoyer/py4ML/blob/main/examples/autoencoders/vae.ipynb)  \n",
    "Modified from: [GAN section of Tensorflow Udemy Course from Jose Portilla - Pierian Training](https://www.udemy.com/course/complete-tensorflow-2-and-keras-deep-learning-bootcamp/)  \n",
    "Next example: [/examples/autoencoders/lstm.ipynb](https://github.com/serhatsoyer/py4ML/blob/main/examples/autoencoders/lstm.ipynb)"
   ]
  }
 ],
 "metadata": {
  "kernelspec": {
   "display_name": "Python 3.10.6 ('study')",
   "language": "python",
   "name": "python3"
  },
  "language_info": {
   "codemirror_mode": {
    "name": "ipython",
    "version": 3
   },
   "file_extension": ".py",
   "mimetype": "text/x-python",
   "name": "python",
   "nbconvert_exporter": "python",
   "pygments_lexer": "ipython3",
   "version": "3.10.8 (main, Nov 24 2022, 08:08:27) [Clang 14.0.6 ]"
  },
  "vscode": {
   "interpreter": {
    "hash": "29d06b973d1ddb34db3279b24f9b5152402e688db937648b736e855ec4de60c0"
   }
  }
 },
 "nbformat": 4,
 "nbformat_minor": 5
}
