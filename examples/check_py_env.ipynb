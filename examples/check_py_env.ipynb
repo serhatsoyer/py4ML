{
 "cells": [
  {
   "attachments": {},
   "cell_type": "markdown",
   "id": "ce734de3",
   "metadata": {},
   "source": [
    "### Learning About the Python Environment and the Libraries\n",
    "\n",
    "This is the first example in [py4ML](https://github.com/serhatsoyer/py4ML)\n",
    "\n",
    "Next example: [/examples/time_series/generate_data.ipynb](https://github.com/serhatsoyer/py4ML/blob/main/examples/time_series/generate_data.ipynb)"
   ]
  },
  {
   "cell_type": "code",
   "execution_count": 1,
   "id": "52fc1c90",
   "metadata": {},
   "outputs": [
    {
     "name": "stdout",
     "output_type": "stream",
     "text": [
      "Python platform:         macOS-13.3.1-arm64-arm-64bit\n",
      "Python version:          3.10.11 (main, Apr 20 2023, 13:58:42) [Clang 14.0.6 ]\n",
      "GPU:                     Available\n",
      "\n",
      "NumPy version:           1.24.3\n",
      "pandas version:          1.5.3\n",
      "Matplotlib version:      3.7.1\n",
      "seaborn version:         0.12.2\n",
      "scikit-learn version:    1.2.2\n",
      "scipy version:           1.10.1\n",
      "TensorFlow version:      2.12.0\n",
      "Keras version:           2.12.0\n"
     ]
    }
   ],
   "source": [
    "import platform, sys, tensorflow, numpy, pandas, matplotlib, seaborn, sklearn, scipy, keras\n",
    "\n",
    "print(f\"{'Python platform:':<25}{platform.platform()}\")\n",
    "print(f\"{'Python version:':<25}{sys.version}\")\n",
    "print(f\"{'GPU:':<25}{'Available' if (len(tensorflow.config.list_physical_devices('GPU')) > 0) else 'Not Available'}\\n\")\n",
    "\n",
    "print(f\"{'NumPy version:':<25}{numpy.__version__}\")\n",
    "print(f\"{'pandas version:':<25}{pandas.__version__}\")\n",
    "print(f\"{'Matplotlib version:':<25}{matplotlib.__version__}\")\n",
    "print(f\"{'seaborn version:':<25}{seaborn.__version__}\")\n",
    "print(f\"{'scikit-learn version:':<25}{sklearn.__version__}\")\n",
    "print(f\"{'scipy version:':<25}{scipy.__version__}\")\n",
    "print(f\"{'TensorFlow version:':<25}{tensorflow.__version__}\")\n",
    "print(f\"{'Keras version:':<25}{keras.__version__}\")"
   ]
  }
 ],
 "metadata": {
  "kernelspec": {
   "display_name": "Python 3.10.6 ('study')",
   "language": "python",
   "name": "python3"
  },
  "language_info": {
   "codemirror_mode": {
    "name": "ipython",
    "version": 3
   },
   "file_extension": ".py",
   "mimetype": "text/x-python",
   "name": "python",
   "nbconvert_exporter": "python",
   "pygments_lexer": "ipython3",
   "version": "3.10.11"
  },
  "vscode": {
   "interpreter": {
    "hash": "29d06b973d1ddb34db3279b24f9b5152402e688db937648b736e855ec4de60c0"
   }
  }
 },
 "nbformat": 4,
 "nbformat_minor": 5
}
